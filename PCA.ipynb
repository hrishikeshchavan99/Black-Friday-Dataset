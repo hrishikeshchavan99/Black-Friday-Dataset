{
  "nbformat": 4,
  "nbformat_minor": 0,
  "metadata": {
    "colab": {
      "name": "PCA.ipynb",
      "provenance": [],
      "collapsed_sections": [],
      "mount_file_id": "1DeFE7mWTk172rMo6yig2tztm4fjbvIam",
      "authorship_tag": "ABX9TyMTgepMkJp7LP0sZ/ljnIX8",
      "include_colab_link": true
    },
    "kernelspec": {
      "name": "python3",
      "display_name": "Python 3"
    }
  },
  "cells": [
    {
      "cell_type": "markdown",
      "metadata": {
        "id": "view-in-github",
        "colab_type": "text"
      },
      "source": [
        "<a href=\"https://colab.research.google.com/github/hrishikeshchavan99/Black-Friday-Dataset/blob/master/PCA.ipynb\" target=\"_parent\"><img src=\"https://colab.research.google.com/assets/colab-badge.svg\" alt=\"Open In Colab\"/></a>"
      ]
    },
    {
      "cell_type": "markdown",
      "metadata": {
        "id": "LzWNayjRvd2a",
        "colab_type": "text"
      },
      "source": [
        "#**Feature selection and dimensionality reduction using Principle component analysis(PCA)**"
      ]
    },
    {
      "cell_type": "code",
      "metadata": {
        "id": "Kfr8Zu1ZtZf0",
        "colab_type": "code",
        "colab": {
          "base_uri": "https://localhost:8080/",
          "height": 70
        },
        "outputId": "c176133a-84b2-46b6-fadc-5f8cea9a304e"
      },
      "source": [
        "import pandas as pd\n",
        "import numpy as np\n",
        "import seaborn as sns\n",
        "import matplotlib.pyplot as plt\n",
        "%matplotlib inline"
      ],
      "execution_count": 1,
      "outputs": [
        {
          "output_type": "stream",
          "text": [
            "/usr/local/lib/python3.6/dist-packages/statsmodels/tools/_testing.py:19: FutureWarning: pandas.util.testing is deprecated. Use the functions in the public API at pandas.testing instead.\n",
            "  import pandas.util.testing as tm\n"
          ],
          "name": "stderr"
        }
      ]
    },
    {
      "cell_type": "code",
      "metadata": {
        "id": "gSPWOenot9Wu",
        "colab_type": "code",
        "colab": {}
      },
      "source": [
        "train = pd.read_csv('/content/drive/My Drive/Colab Notebooks/train.csv')"
      ],
      "execution_count": 0,
      "outputs": []
    },
    {
      "cell_type": "markdown",
      "metadata": {
        "id": "jaxmKpXTwp0m",
        "colab_type": "text"
      },
      "source": [
        "Now, to check the missing values"
      ]
    },
    {
      "cell_type": "code",
      "metadata": {
        "id": "ClBiDS99vA2B",
        "colab_type": "code",
        "colab": {
          "base_uri": "https://localhost:8080/",
          "height": 407
        },
        "outputId": "bfada230-8282-41e1-8206-19f1c59866a5"
      },
      "source": [
        "sns.heatmap(train.isnull(),yticklabels=False,cbar=False,cmap='viridis')"
      ],
      "execution_count": 3,
      "outputs": [
        {
          "output_type": "execute_result",
          "data": {
            "text/plain": [
              "<matplotlib.axes._subplots.AxesSubplot at 0x7f864725c2b0>"
            ]
          },
          "metadata": {
            "tags": []
          },
          "execution_count": 3
        },
        {
          "output_type": "display_data",
          "data": {
            "image/png": "[encoded data removed]",
            "text/plain": [
              "<Figure size 432x288 with 1 Axes>"
            ]
          },
          "metadata": {
            "tags": [],
            "needs_background": "light"
          }
        }
      ]
    },
    {
      "cell_type": "code",
      "metadata": {
        "id": "9k6ESj93v7Fq",
        "colab_type": "code",
        "colab": {
          "base_uri": "https://localhost:8080/",
          "height": 235
        },
        "outputId": "e2f8a84b-129a-4e35-efb7-f50501024ec0"
      },
      "source": [
        "train.isnull().sum()"
      ],
      "execution_count": 4,
      "outputs": [
        {
          "output_type": "execute_result",
          "data": {
            "text/plain": [
              "User_ID                            0\n",
              "Product_ID                         0\n",
              "Gender                             0\n",
              "Age                                0\n",
              "Occupation                         0\n",
              "City_Category                      0\n",
              "Stay_In_Current_City_Years         0\n",
              "Marital_Status                     0\n",
              "Product_Category_1                 0\n",
              "Product_Category_2            173638\n",
              "Product_Category_3            383247\n",
              "Purchase                           0\n",
              "dtype: int64"
            ]
          },
          "metadata": {
            "tags": []
          },
          "execution_count": 4
        }
      ]
    },
    {
      "cell_type": "markdown",
      "metadata": {
        "id": "HHUBEJTVxvze",
        "colab_type": "text"
      },
      "source": [
        "as we have only 30% data inside Product_Category_3 we will drop this coloumn"
      ]
    },
    {
      "cell_type": "code",
      "metadata": {
        "id": "9BSlRJo7xtoS",
        "colab_type": "code",
        "colab": {}
      },
      "source": [
        "train.drop('Product_Category_3',axis=1,inplace=True)"
      ],
      "execution_count": 0,
      "outputs": []
    },
    {
      "cell_type": "code",
      "metadata": {
        "id": "lTlXGoDBymNT",
        "colab_type": "code",
        "colab": {
          "base_uri": "https://localhost:8080/",
          "height": 218
        },
        "outputId": "b8d8d09d-0b87-4aca-965a-eae199637e6f"
      },
      "source": [
        "train.isnull().sum()"
      ],
      "execution_count": 6,
      "outputs": [
        {
          "output_type": "execute_result",
          "data": {
            "text/plain": [
              "User_ID                            0\n",
              "Product_ID                         0\n",
              "Gender                             0\n",
              "Age                                0\n",
              "Occupation                         0\n",
              "City_Category                      0\n",
              "Stay_In_Current_City_Years         0\n",
              "Marital_Status                     0\n",
              "Product_Category_1                 0\n",
              "Product_Category_2            173638\n",
              "Purchase                           0\n",
              "dtype: int64"
            ]
          },
          "metadata": {
            "tags": []
          },
          "execution_count": 6
        }
      ]
    },
    {
      "cell_type": "code",
      "metadata": {
        "id": "ZddrUZWOypUX",
        "colab_type": "code",
        "colab": {
          "base_uri": "https://localhost:8080/",
          "height": 386
        },
        "outputId": "89954b9b-8858-4458-f2e9-419e9ce3792d"
      },
      "source": [
        "sns.catplot(y='Product_Category_2',x='Age',data=train,kind='box')"
      ],
      "execution_count": 7,
      "outputs": [
        {
          "output_type": "execute_result",
          "data": {
            "text/plain": [
              "<seaborn.axisgrid.FacetGrid at 0x7f86461f01d0>"
            ]
          },
          "metadata": {
            "tags": []
          },
          "execution_count": 7
        },
        {
          "output_type": "display_data",
          "data": {
            "image/png": "[encoded data removed]",
            "text/plain": [
              "<Figure size 360x360 with 1 Axes>"
            ]
          },
          "metadata": {
            "tags": [],
            "needs_background": "light"
          }
        }
      ]
    },
    {
      "cell_type": "markdown",
      "metadata": {
        "id": "D1cthWOQy7Ur",
        "colab_type": "text"
      },
      "source": [
        "Product_Category_2 has different mean values for different age category.<br>\n",
        "hence we will replace Product_Category_2 NAN values with appropriate mean values according to respective age category."
      ]
    },
    {
      "cell_type": "code",
      "metadata": {
        "id": "j4j9YeXay3dE",
        "colab_type": "code",
        "colab": {}
      },
      "source": [
        "col=[train['Product_Category_2'],train['Age']]"
      ],
      "execution_count": 0,
      "outputs": []
    },
    {
      "cell_type": "code",
      "metadata": {
        "id": "dM0eipFOzOSx",
        "colab_type": "code",
        "colab": {}
      },
      "source": [
        "def impute_2(col):\n",
        "    age=col[1]\n",
        "    product_Category_2=col[0]\n",
        "    \n",
        "    if pd.isnull(product_Category_2):\n",
        "        if age=='0-17':\n",
        "            return 8\n",
        "        elif age=='55+':\n",
        "            return 12\n",
        "        elif age=='26-35':\n",
        "            return 9\n",
        "        elif age=='46-50':\n",
        "            return 11\n",
        "        elif age=='51-55':\n",
        "            return 11\n",
        "        elif age=='36-45':\n",
        "            return 10\n",
        "        else:\n",
        "            return 8\n",
        "    else:\n",
        "        return product_Category_2"
      ],
      "execution_count": 0,
      "outputs": []
    },
    {
      "cell_type": "code",
      "metadata": {
        "id": "YT6_yEaCzRXB",
        "colab_type": "code",
        "colab": {}
      },
      "source": [
        "train['Product_Category_2']=train[['Product_Category_2','Age']].apply(impute_2,axis=1)"
      ],
      "execution_count": 0,
      "outputs": []
    },
    {
      "cell_type": "code",
      "metadata": {
        "id": "iKhO9fhFzUau",
        "colab_type": "code",
        "colab": {
          "base_uri": "https://localhost:8080/",
          "height": 218
        },
        "outputId": "ccfde15b-87f8-40dc-e86b-6cd7d4ab6d52"
      },
      "source": [
        "train.isnull().sum()"
      ],
      "execution_count": 11,
      "outputs": [
        {
          "output_type": "execute_result",
          "data": {
            "text/plain": [
              "User_ID                       0\n",
              "Product_ID                    0\n",
              "Gender                        0\n",
              "Age                           0\n",
              "Occupation                    0\n",
              "City_Category                 0\n",
              "Stay_In_Current_City_Years    0\n",
              "Marital_Status                0\n",
              "Product_Category_1            0\n",
              "Product_Category_2            0\n",
              "Purchase                      0\n",
              "dtype: int64"
            ]
          },
          "metadata": {
            "tags": []
          },
          "execution_count": 11
        }
      ]
    },
    {
      "cell_type": "markdown",
      "metadata": {
        "id": "407PPCSxzeKX",
        "colab_type": "text"
      },
      "source": [
        "So we removed all null values"
      ]
    },
    {
      "cell_type": "markdown",
      "metadata": {
        "id": "IP8ZWMyg1rOE",
        "colab_type": "text"
      },
      "source": [
        "Now we will add 2 more columns in dataset discount and discount percentage using transform.<br>Both are determined from Max Price."
      ]
    },
    {
      "cell_type": "code",
      "metadata": {
        "id": "WtYbYcjszbp2",
        "colab_type": "code",
        "colab": {}
      },
      "source": [
        "train['Discount'] = train.groupby('Product_ID')['Purchase'].transform('max') - train['Purchase']"
      ],
      "execution_count": 0,
      "outputs": []
    },
    {
      "cell_type": "code",
      "metadata": {
        "id": "v-R_ZHzs08Hw",
        "colab_type": "code",
        "colab": {}
      },
      "source": [
        "train['Percent_Discount'] = (\n",
        "        100 * (train['Purchase'] - train.groupby('Product_ID')['Purchase'].transform('max')) /\n",
        "        train.groupby('Product_ID')['Purchase'].transform('max'))"
      ],
      "execution_count": 0,
      "outputs": []
    },
    {
      "cell_type": "code",
      "metadata": {
        "id": "FRdmuvfY1B4s",
        "colab_type": "code",
        "colab": {
          "base_uri": "https://localhost:8080/",
          "height": 556
        },
        "outputId": "a5e01b4e-fa5b-44e6-b6ec-eb0258a84c99"
      },
      "source": [
        "train"
      ],
      "execution_count": 14,
      "outputs": [
        {
          "output_type": "execute_result",
          "data": {
            "text/html": [
              "<div>\n",
              "<style scoped>\n",
              "    .dataframe tbody tr th:only-of-type {\n",
              "        vertical-align: middle;\n",
              "    }\n",
              "\n",
              "    .dataframe tbody tr th {\n",
              "        vertical-align: top;\n",
              "    }\n",
              "\n",
              "    .dataframe thead th {\n",
              "        text-align: right;\n",
              "    }\n",
              "</style>\n",
              "<table border=\"1\" class=\"dataframe\">\n",
              "  <thead>\n",
              "    <tr style=\"text-align: right;\">\n",
              "      <th></th>\n",
              "      <th>User_ID</th>\n",
              "      <th>Product_ID</th>\n",
              "      <th>Gender</th>\n",
              "      <th>Age</th>\n",
              "      <th>Occupation</th>\n",
              "      <th>City_Category</th>\n",
              "      <th>Stay_In_Current_City_Years</th>\n",
              "      <th>Marital_Status</th>\n",
              "      <th>Product_Category_1</th>\n",
              "      <th>Product_Category_2</th>\n",
              "      <th>Purchase</th>\n",
              "      <th>Discount</th>\n",
              "      <th>Percent_Discount</th>\n",
              "    </tr>\n",
              "  </thead>\n",
              "  <tbody>\n",
              "    <tr>\n",
              "      <th>0</th>\n",
              "      <td>1000001</td>\n",
              "      <td>P00069042</td>\n",
              "      <td>F</td>\n",
              "      <td>0-17</td>\n",
              "      <td>10</td>\n",
              "      <td>A</td>\n",
              "      <td>2</td>\n",
              "      <td>0</td>\n",
              "      <td>3</td>\n",
              "      <td>8.0</td>\n",
              "      <td>8370</td>\n",
              "      <td>5346</td>\n",
              "      <td>-38.976378</td>\n",
              "    </tr>\n",
              "    <tr>\n",
              "      <th>1</th>\n",
              "      <td>1000001</td>\n",
              "      <td>P00248942</td>\n",
              "      <td>F</td>\n",
              "      <td>0-17</td>\n",
              "      <td>10</td>\n",
              "      <td>A</td>\n",
              "      <td>2</td>\n",
              "      <td>0</td>\n",
              "      <td>1</td>\n",
              "      <td>6.0</td>\n",
              "      <td>15200</td>\n",
              "      <td>4501</td>\n",
              "      <td>-22.846556</td>\n",
              "    </tr>\n",
              "    <tr>\n",
              "      <th>2</th>\n",
              "      <td>1000001</td>\n",
              "      <td>P00087842</td>\n",
              "      <td>F</td>\n",
              "      <td>0-17</td>\n",
              "      <td>10</td>\n",
              "      <td>A</td>\n",
              "      <td>2</td>\n",
              "      <td>0</td>\n",
              "      <td>12</td>\n",
              "      <td>8.0</td>\n",
              "      <td>1422</td>\n",
              "      <td>354</td>\n",
              "      <td>-19.932432</td>\n",
              "    </tr>\n",
              "    <tr>\n",
              "      <th>3</th>\n",
              "      <td>1000001</td>\n",
              "      <td>P00085442</td>\n",
              "      <td>F</td>\n",
              "      <td>0-17</td>\n",
              "      <td>10</td>\n",
              "      <td>A</td>\n",
              "      <td>2</td>\n",
              "      <td>0</td>\n",
              "      <td>12</td>\n",
              "      <td>14.0</td>\n",
              "      <td>1057</td>\n",
              "      <td>721</td>\n",
              "      <td>-40.551181</td>\n",
              "    </tr>\n",
              "    <tr>\n",
              "      <th>4</th>\n",
              "      <td>1000002</td>\n",
              "      <td>P00285442</td>\n",
              "      <td>M</td>\n",
              "      <td>55+</td>\n",
              "      <td>16</td>\n",
              "      <td>C</td>\n",
              "      <td>4+</td>\n",
              "      <td>0</td>\n",
              "      <td>8</td>\n",
              "      <td>12.0</td>\n",
              "      <td>7969</td>\n",
              "      <td>2104</td>\n",
              "      <td>-20.887521</td>\n",
              "    </tr>\n",
              "    <tr>\n",
              "      <th>...</th>\n",
              "      <td>...</td>\n",
              "      <td>...</td>\n",
              "      <td>...</td>\n",
              "      <td>...</td>\n",
              "      <td>...</td>\n",
              "      <td>...</td>\n",
              "      <td>...</td>\n",
              "      <td>...</td>\n",
              "      <td>...</td>\n",
              "      <td>...</td>\n",
              "      <td>...</td>\n",
              "      <td>...</td>\n",
              "      <td>...</td>\n",
              "    </tr>\n",
              "    <tr>\n",
              "      <th>550063</th>\n",
              "      <td>1006033</td>\n",
              "      <td>P00372445</td>\n",
              "      <td>M</td>\n",
              "      <td>51-55</td>\n",
              "      <td>13</td>\n",
              "      <td>B</td>\n",
              "      <td>1</td>\n",
              "      <td>1</td>\n",
              "      <td>20</td>\n",
              "      <td>11.0</td>\n",
              "      <td>368</td>\n",
              "      <td>245</td>\n",
              "      <td>-39.967374</td>\n",
              "    </tr>\n",
              "    <tr>\n",
              "      <th>550064</th>\n",
              "      <td>1006035</td>\n",
              "      <td>P00375436</td>\n",
              "      <td>F</td>\n",
              "      <td>26-35</td>\n",
              "      <td>1</td>\n",
              "      <td>C</td>\n",
              "      <td>3</td>\n",
              "      <td>0</td>\n",
              "      <td>20</td>\n",
              "      <td>9.0</td>\n",
              "      <td>371</td>\n",
              "      <td>242</td>\n",
              "      <td>-39.477977</td>\n",
              "    </tr>\n",
              "    <tr>\n",
              "      <th>550065</th>\n",
              "      <td>1006036</td>\n",
              "      <td>P00375436</td>\n",
              "      <td>F</td>\n",
              "      <td>26-35</td>\n",
              "      <td>15</td>\n",
              "      <td>B</td>\n",
              "      <td>4+</td>\n",
              "      <td>1</td>\n",
              "      <td>20</td>\n",
              "      <td>9.0</td>\n",
              "      <td>137</td>\n",
              "      <td>476</td>\n",
              "      <td>-77.650897</td>\n",
              "    </tr>\n",
              "    <tr>\n",
              "      <th>550066</th>\n",
              "      <td>1006038</td>\n",
              "      <td>P00375436</td>\n",
              "      <td>F</td>\n",
              "      <td>55+</td>\n",
              "      <td>1</td>\n",
              "      <td>C</td>\n",
              "      <td>2</td>\n",
              "      <td>0</td>\n",
              "      <td>20</td>\n",
              "      <td>12.0</td>\n",
              "      <td>365</td>\n",
              "      <td>248</td>\n",
              "      <td>-40.456770</td>\n",
              "    </tr>\n",
              "    <tr>\n",
              "      <th>550067</th>\n",
              "      <td>1006039</td>\n",
              "      <td>P00371644</td>\n",
              "      <td>F</td>\n",
              "      <td>46-50</td>\n",
              "      <td>0</td>\n",
              "      <td>B</td>\n",
              "      <td>4+</td>\n",
              "      <td>1</td>\n",
              "      <td>20</td>\n",
              "      <td>11.0</td>\n",
              "      <td>490</td>\n",
              "      <td>123</td>\n",
              "      <td>-20.065253</td>\n",
              "    </tr>\n",
              "  </tbody>\n",
              "</table>\n",
              "<p>550068 rows × 13 columns</p>\n",
              "</div>"
            ],
            "text/plain": [
              "        User_ID Product_ID Gender  ... Purchase  Discount Percent_Discount\n",
              "0       1000001  P00069042      F  ...     8370      5346       -38.976378\n",
              "1       1000001  P00248942      F  ...    15200      4501       -22.846556\n",
              "2       1000001  P00087842      F  ...     1422       354       -19.932432\n",
              "3       1000001  P00085442      F  ...     1057       721       -40.551181\n",
              "4       1000002  P00285442      M  ...     7969      2104       -20.887521\n",
              "...         ...        ...    ...  ...      ...       ...              ...\n",
              "550063  1006033  P00372445      M  ...      368       245       -39.967374\n",
              "550064  1006035  P00375436      F  ...      371       242       -39.477977\n",
              "550065  1006036  P00375436      F  ...      137       476       -77.650897\n",
              "550066  1006038  P00375436      F  ...      365       248       -40.456770\n",
              "550067  1006039  P00371644      F  ...      490       123       -20.065253\n",
              "\n",
              "[550068 rows x 13 columns]"
            ]
          },
          "metadata": {
            "tags": []
          },
          "execution_count": 14
        }
      ]
    },
    {
      "cell_type": "markdown",
      "metadata": {
        "id": "L9HzsBTK6GYS",
        "colab_type": "text"
      },
      "source": [
        "Now, for dimensionality reduction we need to determine which categories are actually contributing to varience"
      ]
    },
    {
      "cell_type": "code",
      "metadata": {
        "id": "7NM9Dp4p1Tic",
        "colab_type": "code",
        "colab": {
          "base_uri": "https://localhost:8080/",
          "height": 34
        },
        "outputId": "8d05da6d-43c5-4cc1-fc18-9556b1dfb52d"
      },
      "source": [
        "#Calculate the unique products being sold by Product Category\n",
        "train['Product_ID'].nunique()"
      ],
      "execution_count": 15,
      "outputs": [
        {
          "output_type": "execute_result",
          "data": {
            "text/plain": [
              "3631"
            ]
          },
          "metadata": {
            "tags": []
          },
          "execution_count": 15
        }
      ]
    },
    {
      "cell_type": "markdown",
      "metadata": {
        "id": "xQqiRUV851Xs",
        "colab_type": "text"
      },
      "source": [
        "We will first see the impact of top selling products "
      ]
    },
    {
      "cell_type": "code",
      "metadata": {
        "id": "rEtYlN-k23w_",
        "colab_type": "code",
        "colab": {}
      },
      "source": [
        "#Take top 25 selling prodects into consideration.\n",
        "top_purchases = train.groupby('Product_ID').sum().reset_index().nlargest(25, columns='Purchase')"
      ],
      "execution_count": 0,
      "outputs": []
    },
    {
      "cell_type": "code",
      "metadata": {
        "id": "vV12OFxT6hXV",
        "colab_type": "code",
        "colab": {}
      },
      "source": [
        "#Also Find the top 25 discounted products by Product IDs\n",
        "top_discounted = train.groupby('Product_ID').sum().reset_index().nlargest(25, columns='Discount')"
      ],
      "execution_count": 0,
      "outputs": []
    },
    {
      "cell_type": "markdown",
      "metadata": {
        "id": "Pd2sctlQ7RIG",
        "colab_type": "text"
      },
      "source": [
        "Now plot them against product ID to check its impact"
      ]
    },
    {
      "cell_type": "code",
      "metadata": {
        "id": "LTZTDeXX6ySu",
        "colab_type": "code",
        "colab": {
          "base_uri": "https://localhost:8080/",
          "height": 519
        },
        "outputId": "745fc7d9-6a6a-405e-8f88-8119b8b7af35"
      },
      "source": [
        "plot_1 = (        \n",
        "        top_purchases\n",
        "        .groupby('Product_ID')\n",
        "        .agg({'Purchase': 'sum', 'Discount': 'sum'})\n",
        "        .sort_values(by = 'Purchase', ascending=False)\n",
        "        .stack().reset_index()\n",
        "        .rename(columns={'level_1': 'Variable', 0: 'Value'})\n",
        "        )\n",
        "\n",
        "plt.figure(figsize=(12, 7))\n",
        "plt.xticks(rotation=75)\n",
        "sns.barplot(x='Product_ID', y='Value', hue='Variable', data=plot_1)"
      ],
      "execution_count": 18,
      "outputs": [
        {
          "output_type": "execute_result",
          "data": {
            "text/plain": [
              "<matplotlib.axes._subplots.AxesSubplot at 0x7f864345a208>"
            ]
          },
          "metadata": {
            "tags": []
          },
          "execution_count": 18
        },
        {
          "output_type": "display_data",
          "data": {
            "image/png": "[encoded data removed]",
            "text/plain": [
              "<Figure size 864x504 with 1 Axes>"
            ]
          },
          "metadata": {
            "tags": [],
            "needs_background": "light"
          }
        }
      ]
    },
    {
      "cell_type": "code",
      "metadata": {
        "id": "_2y4XsAH7pwe",
        "colab_type": "code",
        "colab": {
          "base_uri": "https://localhost:8080/",
          "height": 519
        },
        "outputId": "dc4c9fe6-91cb-4a7a-92c0-f3afe04c48ba"
      },
      "source": [
        "plot_2 = (        \n",
        "        top_discounted\n",
        "        .groupby('Product_ID')\n",
        "        .agg({'Purchase': 'sum', 'Discount': 'sum'})\n",
        "        .sort_values(by = 'Purchase', ascending=False)\n",
        "        .stack().reset_index()\n",
        "        .rename(columns={'level_1': 'Variable', 0: 'Value'})\n",
        "        )\n",
        "\n",
        "plt.figure(figsize=(12, 7))\n",
        "plt.xticks(rotation=75)\n",
        "sns.barplot(x='Product_ID', y='Value', hue='Variable', data=plot_2)"
      ],
      "execution_count": 19,
      "outputs": [
        {
          "output_type": "execute_result",
          "data": {
            "text/plain": [
              "<matplotlib.axes._subplots.AxesSubplot at 0x7f86432f00b8>"
            ]
          },
          "metadata": {
            "tags": []
          },
          "execution_count": 19
        },
        {
          "output_type": "display_data",
          "data": {
            "image/png": "[encoded data removed]",
            "text/plain": [
              "<Figure size 864x504 with 1 Axes>"
            ]
          },
          "metadata": {
            "tags": [],
            "needs_background": "light"
          }
        }
      ]
    },
    {
      "cell_type": "markdown",
      "metadata": {
        "id": "iDbwqEJt72XP",
        "colab_type": "text"
      },
      "source": [
        "From this, we can see that there is no regular pattern(no significant reductions or increments) for discount. So we will focus only on top sells."
      ]
    },
    {
      "cell_type": "code",
      "metadata": {
        "id": "T3eAZEp-70Bn",
        "colab_type": "code",
        "colab": {}
      },
      "source": [
        "keys_purchases = list(top_purchases['Product_ID'].values)"
      ],
      "execution_count": 0,
      "outputs": []
    },
    {
      "cell_type": "code",
      "metadata": {
        "id": "lHUySx4vF1Wt",
        "colab_type": "code",
        "colab": {}
      },
      "source": [
        "#create a copy of dataset consisting of rows of product IDs with key purchases\n",
        "temp = train[train['Product_ID'].isin(keys_purchases)].copy()"
      ],
      "execution_count": 0,
      "outputs": []
    },
    {
      "cell_type": "markdown",
      "metadata": {
        "id": "OQMt1h9PHHZ1",
        "colab_type": "text"
      },
      "source": [
        "To perform PCA, we need to input features.<br> For that, convert categorical features into dummy variables in copy of dataset."
      ]
    },
    {
      "cell_type": "code",
      "metadata": {
        "id": "EYxMIm3EGQVh",
        "colab_type": "code",
        "colab": {
          "base_uri": "https://localhost:8080/",
          "height": 282
        },
        "outputId": "a7efa7a6-1b01-48aa-c80a-fe802e712a12"
      },
      "source": [
        "train.head()"
      ],
      "execution_count": 22,
      "outputs": [
        {
          "output_type": "execute_result",
          "data": {
            "text/html": [
              "<div>\n",
              "<style scoped>\n",
              "    .dataframe tbody tr th:only-of-type {\n",
              "        vertical-align: middle;\n",
              "    }\n",
              "\n",
              "    .dataframe tbody tr th {\n",
              "        vertical-align: top;\n",
              "    }\n",
              "\n",
              "    .dataframe thead th {\n",
              "        text-align: right;\n",
              "    }\n",
              "</style>\n",
              "<table border=\"1\" class=\"dataframe\">\n",
              "  <thead>\n",
              "    <tr style=\"text-align: right;\">\n",
              "      <th></th>\n",
              "      <th>User_ID</th>\n",
              "      <th>Product_ID</th>\n",
              "      <th>Gender</th>\n",
              "      <th>Age</th>\n",
              "      <th>Occupation</th>\n",
              "      <th>City_Category</th>\n",
              "      <th>Stay_In_Current_City_Years</th>\n",
              "      <th>Marital_Status</th>\n",
              "      <th>Product_Category_1</th>\n",
              "      <th>Product_Category_2</th>\n",
              "      <th>Purchase</th>\n",
              "      <th>Discount</th>\n",
              "      <th>Percent_Discount</th>\n",
              "    </tr>\n",
              "  </thead>\n",
              "  <tbody>\n",
              "    <tr>\n",
              "      <th>0</th>\n",
              "      <td>1000001</td>\n",
              "      <td>P00069042</td>\n",
              "      <td>F</td>\n",
              "      <td>0-17</td>\n",
              "      <td>10</td>\n",
              "      <td>A</td>\n",
              "      <td>2</td>\n",
              "      <td>0</td>\n",
              "      <td>3</td>\n",
              "      <td>8.0</td>\n",
              "      <td>8370</td>\n",
              "      <td>5346</td>\n",
              "      <td>-38.976378</td>\n",
              "    </tr>\n",
              "    <tr>\n",
              "      <th>1</th>\n",
              "      <td>1000001</td>\n",
              "      <td>P00248942</td>\n",
              "      <td>F</td>\n",
              "      <td>0-17</td>\n",
              "      <td>10</td>\n",
              "      <td>A</td>\n",
              "      <td>2</td>\n",
              "      <td>0</td>\n",
              "      <td>1</td>\n",
              "      <td>6.0</td>\n",
              "      <td>15200</td>\n",
              "      <td>4501</td>\n",
              "      <td>-22.846556</td>\n",
              "    </tr>\n",
              "    <tr>\n",
              "      <th>2</th>\n",
              "      <td>1000001</td>\n",
              "      <td>P00087842</td>\n",
              "      <td>F</td>\n",
              "      <td>0-17</td>\n",
              "      <td>10</td>\n",
              "      <td>A</td>\n",
              "      <td>2</td>\n",
              "      <td>0</td>\n",
              "      <td>12</td>\n",
              "      <td>8.0</td>\n",
              "      <td>1422</td>\n",
              "      <td>354</td>\n",
              "      <td>-19.932432</td>\n",
              "    </tr>\n",
              "    <tr>\n",
              "      <th>3</th>\n",
              "      <td>1000001</td>\n",
              "      <td>P00085442</td>\n",
              "      <td>F</td>\n",
              "      <td>0-17</td>\n",
              "      <td>10</td>\n",
              "      <td>A</td>\n",
              "      <td>2</td>\n",
              "      <td>0</td>\n",
              "      <td>12</td>\n",
              "      <td>14.0</td>\n",
              "      <td>1057</td>\n",
              "      <td>721</td>\n",
              "      <td>-40.551181</td>\n",
              "    </tr>\n",
              "    <tr>\n",
              "      <th>4</th>\n",
              "      <td>1000002</td>\n",
              "      <td>P00285442</td>\n",
              "      <td>M</td>\n",
              "      <td>55+</td>\n",
              "      <td>16</td>\n",
              "      <td>C</td>\n",
              "      <td>4+</td>\n",
              "      <td>0</td>\n",
              "      <td>8</td>\n",
              "      <td>12.0</td>\n",
              "      <td>7969</td>\n",
              "      <td>2104</td>\n",
              "      <td>-20.887521</td>\n",
              "    </tr>\n",
              "  </tbody>\n",
              "</table>\n",
              "</div>"
            ],
            "text/plain": [
              "   User_ID Product_ID Gender  ... Purchase  Discount Percent_Discount\n",
              "0  1000001  P00069042      F  ...     8370      5346       -38.976378\n",
              "1  1000001  P00248942      F  ...    15200      4501       -22.846556\n",
              "2  1000001  P00087842      F  ...     1422       354       -19.932432\n",
              "3  1000001  P00085442      F  ...     1057       721       -40.551181\n",
              "4  1000002  P00285442      M  ...     7969      2104       -20.887521\n",
              "\n",
              "[5 rows x 13 columns]"
            ]
          },
          "metadata": {
            "tags": []
          },
          "execution_count": 22
        }
      ]
    },
    {
      "cell_type": "code",
      "metadata": {
        "id": "TMNL1kofIvCx",
        "colab_type": "code",
        "colab": {
          "base_uri": "https://localhost:8080/",
          "height": 299
        },
        "outputId": "74775dce-7c2f-4b1c-bc5c-4beb0a673f54"
      },
      "source": [
        "temp.head()"
      ],
      "execution_count": 23,
      "outputs": [
        {
          "output_type": "execute_result",
          "data": {
            "text/html": [
              "<div>\n",
              "<style scoped>\n",
              "    .dataframe tbody tr th:only-of-type {\n",
              "        vertical-align: middle;\n",
              "    }\n",
              "\n",
              "    .dataframe tbody tr th {\n",
              "        vertical-align: top;\n",
              "    }\n",
              "\n",
              "    .dataframe thead th {\n",
              "        text-align: right;\n",
              "    }\n",
              "</style>\n",
              "<table border=\"1\" class=\"dataframe\">\n",
              "  <thead>\n",
              "    <tr style=\"text-align: right;\">\n",
              "      <th></th>\n",
              "      <th>User_ID</th>\n",
              "      <th>Product_ID</th>\n",
              "      <th>Gender</th>\n",
              "      <th>Age</th>\n",
              "      <th>Occupation</th>\n",
              "      <th>City_Category</th>\n",
              "      <th>Stay_In_Current_City_Years</th>\n",
              "      <th>Marital_Status</th>\n",
              "      <th>Product_Category_1</th>\n",
              "      <th>Product_Category_2</th>\n",
              "      <th>Purchase</th>\n",
              "      <th>Discount</th>\n",
              "      <th>Percent_Discount</th>\n",
              "    </tr>\n",
              "  </thead>\n",
              "  <tbody>\n",
              "    <tr>\n",
              "      <th>6</th>\n",
              "      <td>1000004</td>\n",
              "      <td>P00184942</td>\n",
              "      <td>M</td>\n",
              "      <td>46-50</td>\n",
              "      <td>7</td>\n",
              "      <td>B</td>\n",
              "      <td>2</td>\n",
              "      <td>1</td>\n",
              "      <td>1</td>\n",
              "      <td>8.0</td>\n",
              "      <td>19215</td>\n",
              "      <td>492</td>\n",
              "      <td>-2.496575</td>\n",
              "    </tr>\n",
              "    <tr>\n",
              "      <th>13</th>\n",
              "      <td>1000005</td>\n",
              "      <td>P00145042</td>\n",
              "      <td>M</td>\n",
              "      <td>26-35</td>\n",
              "      <td>20</td>\n",
              "      <td>A</td>\n",
              "      <td>1</td>\n",
              "      <td>1</td>\n",
              "      <td>1</td>\n",
              "      <td>2.0</td>\n",
              "      <td>15665</td>\n",
              "      <td>4040</td>\n",
              "      <td>-20.502411</td>\n",
              "    </tr>\n",
              "    <tr>\n",
              "      <th>41</th>\n",
              "      <td>1000010</td>\n",
              "      <td>P00111142</td>\n",
              "      <td>F</td>\n",
              "      <td>36-45</td>\n",
              "      <td>1</td>\n",
              "      <td>B</td>\n",
              "      <td>4+</td>\n",
              "      <td>1</td>\n",
              "      <td>1</td>\n",
              "      <td>15.0</td>\n",
              "      <td>18963</td>\n",
              "      <td>743</td>\n",
              "      <td>-3.770425</td>\n",
              "    </tr>\n",
              "    <tr>\n",
              "      <th>44</th>\n",
              "      <td>1000010</td>\n",
              "      <td>P00148642</td>\n",
              "      <td>F</td>\n",
              "      <td>36-45</td>\n",
              "      <td>1</td>\n",
              "      <td>B</td>\n",
              "      <td>4+</td>\n",
              "      <td>1</td>\n",
              "      <td>6</td>\n",
              "      <td>10.0</td>\n",
              "      <td>12642</td>\n",
              "      <td>8048</td>\n",
              "      <td>-38.898018</td>\n",
              "    </tr>\n",
              "    <tr>\n",
              "      <th>48</th>\n",
              "      <td>1000011</td>\n",
              "      <td>P00110842</td>\n",
              "      <td>F</td>\n",
              "      <td>26-35</td>\n",
              "      <td>1</td>\n",
              "      <td>C</td>\n",
              "      <td>1</td>\n",
              "      <td>0</td>\n",
              "      <td>1</td>\n",
              "      <td>2.0</td>\n",
              "      <td>19327</td>\n",
              "      <td>381</td>\n",
              "      <td>-1.933225</td>\n",
              "    </tr>\n",
              "  </tbody>\n",
              "</table>\n",
              "</div>"
            ],
            "text/plain": [
              "    User_ID Product_ID Gender  ... Purchase  Discount Percent_Discount\n",
              "6   1000004  P00184942      M  ...    19215       492        -2.496575\n",
              "13  1000005  P00145042      M  ...    15665      4040       -20.502411\n",
              "41  1000010  P00111142      F  ...    18963       743        -3.770425\n",
              "44  1000010  P00148642      F  ...    12642      8048       -38.898018\n",
              "48  1000011  P00110842      F  ...    19327       381        -1.933225\n",
              "\n",
              "[5 rows x 13 columns]"
            ]
          },
          "metadata": {
            "tags": []
          },
          "execution_count": 23
        }
      ]
    },
    {
      "cell_type": "markdown",
      "metadata": {
        "id": "KujcnuZ_MqHW",
        "colab_type": "text"
      },
      "source": [
        "Before converting to dummy variable, we need all values in string.<br>Since Occupation, Product Catogery 1 and 2 are integers, we first convert them into strings."
      ]
    },
    {
      "cell_type": "code",
      "metadata": {
        "id": "nYsxKajMNHvx",
        "colab_type": "code",
        "colab": {}
      },
      "source": [
        "temp['Occupation'] = temp['Occupation'].apply(lambda x: 'j' + str(x))\n",
        "temp['Product_Category_1'] = temp['Product_Category_1'].apply(lambda x: 'p' + str(x))\n",
        "temp['Product_Category_2'] = temp['Product_Category_2'].apply(lambda x: 'p' + str(x))"
      ],
      "execution_count": 0,
      "outputs": []
    },
    {
      "cell_type": "code",
      "metadata": {
        "id": "tIiREraMIymu",
        "colab_type": "code",
        "colab": {}
      },
      "source": [
        "#now add dummy variables for Product_ID, Gender, Age, and Stay_In_Current_City using pandas\n",
        "Product_ID_2 = pd.get_dummies(temp['Product_ID'],drop_first=True)\n",
        "Gender2 = pd.get_dummies(temp['Gender'],drop_first=True)\n",
        "Age2 = pd.get_dummies(temp['Age'],drop_first=True)\n",
        "Stay_years2 = pd.get_dummies(temp['Stay_In_Current_City_Years'],drop_first=True)\n",
        "Occupation2 = pd.get_dummies(temp['Occupation'],drop_first=True)\n",
        "Product_cat1 = pd.get_dummies(temp['Product_Category_1'],drop_first=True)\n",
        "Product_cat2 = pd.get_dummies(temp['Product_Category_2'],drop_first=True)"
      ],
      "execution_count": 0,
      "outputs": []
    },
    {
      "cell_type": "code",
      "metadata": {
        "id": "9n-kVVsKJk41",
        "colab_type": "code",
        "colab": {
          "base_uri": "https://localhost:8080/",
          "height": 299
        },
        "outputId": "f454522f-e619-4ac5-9db3-d8fea0372b6f"
      },
      "source": [
        "temp.head()"
      ],
      "execution_count": 26,
      "outputs": [
        {
          "output_type": "execute_result",
          "data": {
            "text/html": [
              "<div>\n",
              "<style scoped>\n",
              "    .dataframe tbody tr th:only-of-type {\n",
              "        vertical-align: middle;\n",
              "    }\n",
              "\n",
              "    .dataframe tbody tr th {\n",
              "        vertical-align: top;\n",
              "    }\n",
              "\n",
              "    .dataframe thead th {\n",
              "        text-align: right;\n",
              "    }\n",
              "</style>\n",
              "<table border=\"1\" class=\"dataframe\">\n",
              "  <thead>\n",
              "    <tr style=\"text-align: right;\">\n",
              "      <th></th>\n",
              "      <th>User_ID</th>\n",
              "      <th>Product_ID</th>\n",
              "      <th>Gender</th>\n",
              "      <th>Age</th>\n",
              "      <th>Occupation</th>\n",
              "      <th>City_Category</th>\n",
              "      <th>Stay_In_Current_City_Years</th>\n",
              "      <th>Marital_Status</th>\n",
              "      <th>Product_Category_1</th>\n",
              "      <th>Product_Category_2</th>\n",
              "      <th>Purchase</th>\n",
              "      <th>Discount</th>\n",
              "      <th>Percent_Discount</th>\n",
              "    </tr>\n",
              "  </thead>\n",
              "  <tbody>\n",
              "    <tr>\n",
              "      <th>6</th>\n",
              "      <td>1000004</td>\n",
              "      <td>P00184942</td>\n",
              "      <td>M</td>\n",
              "      <td>46-50</td>\n",
              "      <td>j7</td>\n",
              "      <td>B</td>\n",
              "      <td>2</td>\n",
              "      <td>1</td>\n",
              "      <td>p1</td>\n",
              "      <td>p8.0</td>\n",
              "      <td>19215</td>\n",
              "      <td>492</td>\n",
              "      <td>-2.496575</td>\n",
              "    </tr>\n",
              "    <tr>\n",
              "      <th>13</th>\n",
              "      <td>1000005</td>\n",
              "      <td>P00145042</td>\n",
              "      <td>M</td>\n",
              "      <td>26-35</td>\n",
              "      <td>j20</td>\n",
              "      <td>A</td>\n",
              "      <td>1</td>\n",
              "      <td>1</td>\n",
              "      <td>p1</td>\n",
              "      <td>p2.0</td>\n",
              "      <td>15665</td>\n",
              "      <td>4040</td>\n",
              "      <td>-20.502411</td>\n",
              "    </tr>\n",
              "    <tr>\n",
              "      <th>41</th>\n",
              "      <td>1000010</td>\n",
              "      <td>P00111142</td>\n",
              "      <td>F</td>\n",
              "      <td>36-45</td>\n",
              "      <td>j1</td>\n",
              "      <td>B</td>\n",
              "      <td>4+</td>\n",
              "      <td>1</td>\n",
              "      <td>p1</td>\n",
              "      <td>p15.0</td>\n",
              "      <td>18963</td>\n",
              "      <td>743</td>\n",
              "      <td>-3.770425</td>\n",
              "    </tr>\n",
              "    <tr>\n",
              "      <th>44</th>\n",
              "      <td>1000010</td>\n",
              "      <td>P00148642</td>\n",
              "      <td>F</td>\n",
              "      <td>36-45</td>\n",
              "      <td>j1</td>\n",
              "      <td>B</td>\n",
              "      <td>4+</td>\n",
              "      <td>1</td>\n",
              "      <td>p6</td>\n",
              "      <td>p10.0</td>\n",
              "      <td>12642</td>\n",
              "      <td>8048</td>\n",
              "      <td>-38.898018</td>\n",
              "    </tr>\n",
              "    <tr>\n",
              "      <th>48</th>\n",
              "      <td>1000011</td>\n",
              "      <td>P00110842</td>\n",
              "      <td>F</td>\n",
              "      <td>26-35</td>\n",
              "      <td>j1</td>\n",
              "      <td>C</td>\n",
              "      <td>1</td>\n",
              "      <td>0</td>\n",
              "      <td>p1</td>\n",
              "      <td>p2.0</td>\n",
              "      <td>19327</td>\n",
              "      <td>381</td>\n",
              "      <td>-1.933225</td>\n",
              "    </tr>\n",
              "  </tbody>\n",
              "</table>\n",
              "</div>"
            ],
            "text/plain": [
              "    User_ID Product_ID Gender  ... Purchase Discount Percent_Discount\n",
              "6   1000004  P00184942      M  ...    19215      492        -2.496575\n",
              "13  1000005  P00145042      M  ...    15665     4040       -20.502411\n",
              "41  1000010  P00111142      F  ...    18963      743        -3.770425\n",
              "44  1000010  P00148642      F  ...    12642     8048       -38.898018\n",
              "48  1000011  P00110842      F  ...    19327      381        -1.933225\n",
              "\n",
              "[5 rows x 13 columns]"
            ]
          },
          "metadata": {
            "tags": []
          },
          "execution_count": 26
        }
      ]
    },
    {
      "cell_type": "code",
      "metadata": {
        "id": "mcPFLpqHJrqX",
        "colab_type": "code",
        "colab": {
          "base_uri": "https://localhost:8080/",
          "height": 34
        },
        "outputId": "07be3372-d56b-4869-e8d4-d7677ad5d7ce"
      },
      "source": [
        "temp.shape"
      ],
      "execution_count": 27,
      "outputs": [
        {
          "output_type": "execute_result",
          "data": {
            "text/plain": [
              "(32167, 13)"
            ]
          },
          "metadata": {
            "tags": []
          },
          "execution_count": 27
        }
      ]
    },
    {
      "cell_type": "code",
      "metadata": {
        "id": "ECa8zIkpLUIt",
        "colab_type": "code",
        "colab": {}
      },
      "source": [
        "#remove original columns from copy of dataset i.e. temp\n",
        "temp.drop(['Product_ID','Gender','Age','Stay_In_Current_City_Years', 'Occupation','Product_Category_1', 'Product_Category_2'],axis=1,inplace=True)"
      ],
      "execution_count": 0,
      "outputs": []
    },
    {
      "cell_type": "code",
      "metadata": {
        "id": "1y_7FO1dJtwL",
        "colab_type": "code",
        "colab": {}
      },
      "source": [
        "#now add new colums \n",
        "temp = pd.concat([temp, Product_ID_2,Gender2,Age2,Stay_years2, Occupation2, Product_cat1, Product_cat2],axis=1)"
      ],
      "execution_count": 0,
      "outputs": []
    },
    {
      "cell_type": "code",
      "metadata": {
        "id": "D1XuMQEWKW1r",
        "colab_type": "code",
        "colab": {
          "base_uri": "https://localhost:8080/",
          "height": 34
        },
        "outputId": "325e465f-9c15-40a5-8ece-d0eef2b673d6"
      },
      "source": [
        "temp.shape"
      ],
      "execution_count": 30,
      "outputs": [
        {
          "output_type": "execute_result",
          "data": {
            "text/plain": [
              "(32167, 72)"
            ]
          },
          "metadata": {
            "tags": []
          },
          "execution_count": 30
        }
      ]
    },
    {
      "cell_type": "markdown",
      "metadata": {
        "id": "40fhKB7IP0Up",
        "colab_type": "text"
      },
      "source": [
        "Now our dataframe is ready for PCA analysis with 72 degrees of freedom"
      ]
    },
    {
      "cell_type": "code",
      "metadata": {
        "id": "nq0Lg65cKcHN",
        "colab_type": "code",
        "colab": {}
      },
      "source": [
        "from sklearn.preprocessing import StandardScaler\n",
        "from sklearn.decomposition import PCA"
      ],
      "execution_count": 0,
      "outputs": []
    },
    {
      "cell_type": "code",
      "metadata": {
        "id": "UBSaB64KKun4",
        "colab_type": "code",
        "colab": {
          "base_uri": "https://localhost:8080/",
          "height": 232
        },
        "outputId": "86a7e569-8109-4add-f8b7-41614851c8f0"
      },
      "source": [
        "temp.head()"
      ],
      "execution_count": 32,
      "outputs": [
        {
          "output_type": "execute_result",
          "data": {
            "text/html": [
              "<div>\n",
              "<style scoped>\n",
              "    .dataframe tbody tr th:only-of-type {\n",
              "        vertical-align: middle;\n",
              "    }\n",
              "\n",
              "    .dataframe tbody tr th {\n",
              "        vertical-align: top;\n",
              "    }\n",
              "\n",
              "    .dataframe thead th {\n",
              "        text-align: right;\n",
              "    }\n",
              "</style>\n",
              "<table border=\"1\" class=\"dataframe\">\n",
              "  <thead>\n",
              "    <tr style=\"text-align: right;\">\n",
              "      <th></th>\n",
              "      <th>User_ID</th>\n",
              "      <th>City_Category</th>\n",
              "      <th>Marital_Status</th>\n",
              "      <th>Purchase</th>\n",
              "      <th>Discount</th>\n",
              "      <th>Percent_Discount</th>\n",
              "      <th>P00010742</th>\n",
              "      <th>P00025442</th>\n",
              "      <th>P00028842</th>\n",
              "      <th>P00044442</th>\n",
              "      <th>P00046742</th>\n",
              "      <th>P00052842</th>\n",
              "      <th>P00057642</th>\n",
              "      <th>P00059442</th>\n",
              "      <th>P00080342</th>\n",
              "      <th>P00110742</th>\n",
              "      <th>P00110842</th>\n",
              "      <th>P00110942</th>\n",
              "      <th>P00111142</th>\n",
              "      <th>P00112142</th>\n",
              "      <th>P00112542</th>\n",
              "      <th>P00114942</th>\n",
              "      <th>P00145042</th>\n",
              "      <th>P00148642</th>\n",
              "      <th>P00184942</th>\n",
              "      <th>P00237542</th>\n",
              "      <th>P00242742</th>\n",
              "      <th>P00255842</th>\n",
              "      <th>P00270942</th>\n",
              "      <th>P00334242</th>\n",
              "      <th>M</th>\n",
              "      <th>18-25</th>\n",
              "      <th>26-35</th>\n",
              "      <th>36-45</th>\n",
              "      <th>46-50</th>\n",
              "      <th>51-55</th>\n",
              "      <th>55+</th>\n",
              "      <th>1</th>\n",
              "      <th>2</th>\n",
              "      <th>3</th>\n",
              "      <th>4+</th>\n",
              "      <th>j1</th>\n",
              "      <th>j10</th>\n",
              "      <th>j11</th>\n",
              "      <th>j12</th>\n",
              "      <th>j13</th>\n",
              "      <th>j14</th>\n",
              "      <th>j15</th>\n",
              "      <th>j16</th>\n",
              "      <th>j17</th>\n",
              "      <th>j18</th>\n",
              "      <th>j19</th>\n",
              "      <th>j2</th>\n",
              "      <th>j20</th>\n",
              "      <th>j3</th>\n",
              "      <th>j4</th>\n",
              "      <th>j5</th>\n",
              "      <th>j6</th>\n",
              "      <th>j7</th>\n",
              "      <th>j8</th>\n",
              "      <th>j9</th>\n",
              "      <th>p10</th>\n",
              "      <th>p16</th>\n",
              "      <th>p6</th>\n",
              "      <th>p11.0</th>\n",
              "      <th>p12.0</th>\n",
              "      <th>p15.0</th>\n",
              "      <th>p16.0</th>\n",
              "      <th>p2.0</th>\n",
              "      <th>p6.0</th>\n",
              "      <th>p8.0</th>\n",
              "      <th>p9.0</th>\n",
              "    </tr>\n",
              "  </thead>\n",
              "  <tbody>\n",
              "    <tr>\n",
              "      <th>6</th>\n",
              "      <td>1000004</td>\n",
              "      <td>B</td>\n",
              "      <td>1</td>\n",
              "      <td>19215</td>\n",
              "      <td>492</td>\n",
              "      <td>-2.496575</td>\n",
              "      <td>0</td>\n",
              "      <td>0</td>\n",
              "      <td>0</td>\n",
              "      <td>0</td>\n",
              "      <td>0</td>\n",
              "      <td>0</td>\n",
              "      <td>0</td>\n",
              "      <td>0</td>\n",
              "      <td>0</td>\n",
              "      <td>0</td>\n",
              "      <td>0</td>\n",
              "      <td>0</td>\n",
              "      <td>0</td>\n",
              "      <td>0</td>\n",
              "      <td>0</td>\n",
              "      <td>0</td>\n",
              "      <td>0</td>\n",
              "      <td>0</td>\n",
              "      <td>1</td>\n",
              "      <td>0</td>\n",
              "      <td>0</td>\n",
              "      <td>0</td>\n",
              "      <td>0</td>\n",
              "      <td>0</td>\n",
              "      <td>1</td>\n",
              "      <td>0</td>\n",
              "      <td>0</td>\n",
              "      <td>0</td>\n",
              "      <td>1</td>\n",
              "      <td>0</td>\n",
              "      <td>0</td>\n",
              "      <td>0</td>\n",
              "      <td>1</td>\n",
              "      <td>0</td>\n",
              "      <td>0</td>\n",
              "      <td>0</td>\n",
              "      <td>0</td>\n",
              "      <td>0</td>\n",
              "      <td>0</td>\n",
              "      <td>0</td>\n",
              "      <td>0</td>\n",
              "      <td>0</td>\n",
              "      <td>0</td>\n",
              "      <td>0</td>\n",
              "      <td>0</td>\n",
              "      <td>0</td>\n",
              "      <td>0</td>\n",
              "      <td>0</td>\n",
              "      <td>0</td>\n",
              "      <td>0</td>\n",
              "      <td>0</td>\n",
              "      <td>0</td>\n",
              "      <td>1</td>\n",
              "      <td>0</td>\n",
              "      <td>0</td>\n",
              "      <td>0</td>\n",
              "      <td>0</td>\n",
              "      <td>0</td>\n",
              "      <td>0</td>\n",
              "      <td>0</td>\n",
              "      <td>0</td>\n",
              "      <td>0</td>\n",
              "      <td>0</td>\n",
              "      <td>0</td>\n",
              "      <td>1</td>\n",
              "      <td>0</td>\n",
              "    </tr>\n",
              "    <tr>\n",
              "      <th>13</th>\n",
              "      <td>1000005</td>\n",
              "      <td>A</td>\n",
              "      <td>1</td>\n",
              "      <td>15665</td>\n",
              "      <td>4040</td>\n",
              "      <td>-20.502411</td>\n",
              "      <td>0</td>\n",
              "      <td>0</td>\n",
              "      <td>0</td>\n",
              "      <td>0</td>\n",
              "      <td>0</td>\n",
              "      <td>0</td>\n",
              "      <td>0</td>\n",
              "      <td>0</td>\n",
              "      <td>0</td>\n",
              "      <td>0</td>\n",
              "      <td>0</td>\n",
              "      <td>0</td>\n",
              "      <td>0</td>\n",
              "      <td>0</td>\n",
              "      <td>0</td>\n",
              "      <td>0</td>\n",
              "      <td>1</td>\n",
              "      <td>0</td>\n",
              "      <td>0</td>\n",
              "      <td>0</td>\n",
              "      <td>0</td>\n",
              "      <td>0</td>\n",
              "      <td>0</td>\n",
              "      <td>0</td>\n",
              "      <td>1</td>\n",
              "      <td>0</td>\n",
              "      <td>1</td>\n",
              "      <td>0</td>\n",
              "      <td>0</td>\n",
              "      <td>0</td>\n",
              "      <td>0</td>\n",
              "      <td>1</td>\n",
              "      <td>0</td>\n",
              "      <td>0</td>\n",
              "      <td>0</td>\n",
              "      <td>0</td>\n",
              "      <td>0</td>\n",
              "      <td>0</td>\n",
              "      <td>0</td>\n",
              "      <td>0</td>\n",
              "      <td>0</td>\n",
              "      <td>0</td>\n",
              "      <td>0</td>\n",
              "      <td>0</td>\n",
              "      <td>0</td>\n",
              "      <td>0</td>\n",
              "      <td>0</td>\n",
              "      <td>1</td>\n",
              "      <td>0</td>\n",
              "      <td>0</td>\n",
              "      <td>0</td>\n",
              "      <td>0</td>\n",
              "      <td>0</td>\n",
              "      <td>0</td>\n",
              "      <td>0</td>\n",
              "      <td>0</td>\n",
              "      <td>0</td>\n",
              "      <td>0</td>\n",
              "      <td>0</td>\n",
              "      <td>0</td>\n",
              "      <td>0</td>\n",
              "      <td>0</td>\n",
              "      <td>1</td>\n",
              "      <td>0</td>\n",
              "      <td>0</td>\n",
              "      <td>0</td>\n",
              "    </tr>\n",
              "    <tr>\n",
              "      <th>41</th>\n",
              "      <td>1000010</td>\n",
              "      <td>B</td>\n",
              "      <td>1</td>\n",
              "      <td>18963</td>\n",
              "      <td>743</td>\n",
              "      <td>-3.770425</td>\n",
              "      <td>0</td>\n",
              "      <td>0</td>\n",
              "      <td>0</td>\n",
              "      <td>0</td>\n",
              "      <td>0</td>\n",
              "      <td>0</td>\n",
              "      <td>0</td>\n",
              "      <td>0</td>\n",
              "      <td>0</td>\n",
              "      <td>0</td>\n",
              "      <td>0</td>\n",
              "      <td>0</td>\n",
              "      <td>1</td>\n",
              "      <td>0</td>\n",
              "      <td>0</td>\n",
              "      <td>0</td>\n",
              "      <td>0</td>\n",
              "      <td>0</td>\n",
              "      <td>0</td>\n",
              "      <td>0</td>\n",
              "      <td>0</td>\n",
              "      <td>0</td>\n",
              "      <td>0</td>\n",
              "      <td>0</td>\n",
              "      <td>0</td>\n",
              "      <td>0</td>\n",
              "      <td>0</td>\n",
              "      <td>1</td>\n",
              "      <td>0</td>\n",
              "      <td>0</td>\n",
              "      <td>0</td>\n",
              "      <td>0</td>\n",
              "      <td>0</td>\n",
              "      <td>0</td>\n",
              "      <td>1</td>\n",
              "      <td>1</td>\n",
              "      <td>0</td>\n",
              "      <td>0</td>\n",
              "      <td>0</td>\n",
              "      <td>0</td>\n",
              "      <td>0</td>\n",
              "      <td>0</td>\n",
              "      <td>0</td>\n",
              "      <td>0</td>\n",
              "      <td>0</td>\n",
              "      <td>0</td>\n",
              "      <td>0</td>\n",
              "      <td>0</td>\n",
              "      <td>0</td>\n",
              "      <td>0</td>\n",
              "      <td>0</td>\n",
              "      <td>0</td>\n",
              "      <td>0</td>\n",
              "      <td>0</td>\n",
              "      <td>0</td>\n",
              "      <td>0</td>\n",
              "      <td>0</td>\n",
              "      <td>0</td>\n",
              "      <td>0</td>\n",
              "      <td>0</td>\n",
              "      <td>1</td>\n",
              "      <td>0</td>\n",
              "      <td>0</td>\n",
              "      <td>0</td>\n",
              "      <td>0</td>\n",
              "      <td>0</td>\n",
              "    </tr>\n",
              "    <tr>\n",
              "      <th>44</th>\n",
              "      <td>1000010</td>\n",
              "      <td>B</td>\n",
              "      <td>1</td>\n",
              "      <td>12642</td>\n",
              "      <td>8048</td>\n",
              "      <td>-38.898018</td>\n",
              "      <td>0</td>\n",
              "      <td>0</td>\n",
              "      <td>0</td>\n",
              "      <td>0</td>\n",
              "      <td>0</td>\n",
              "      <td>0</td>\n",
              "      <td>0</td>\n",
              "      <td>0</td>\n",
              "      <td>0</td>\n",
              "      <td>0</td>\n",
              "      <td>0</td>\n",
              "      <td>0</td>\n",
              "      <td>0</td>\n",
              "      <td>0</td>\n",
              "      <td>0</td>\n",
              "      <td>0</td>\n",
              "      <td>0</td>\n",
              "      <td>1</td>\n",
              "      <td>0</td>\n",
              "      <td>0</td>\n",
              "      <td>0</td>\n",
              "      <td>0</td>\n",
              "      <td>0</td>\n",
              "      <td>0</td>\n",
              "      <td>0</td>\n",
              "      <td>0</td>\n",
              "      <td>0</td>\n",
              "      <td>1</td>\n",
              "      <td>0</td>\n",
              "      <td>0</td>\n",
              "      <td>0</td>\n",
              "      <td>0</td>\n",
              "      <td>0</td>\n",
              "      <td>0</td>\n",
              "      <td>1</td>\n",
              "      <td>1</td>\n",
              "      <td>0</td>\n",
              "      <td>0</td>\n",
              "      <td>0</td>\n",
              "      <td>0</td>\n",
              "      <td>0</td>\n",
              "      <td>0</td>\n",
              "      <td>0</td>\n",
              "      <td>0</td>\n",
              "      <td>0</td>\n",
              "      <td>0</td>\n",
              "      <td>0</td>\n",
              "      <td>0</td>\n",
              "      <td>0</td>\n",
              "      <td>0</td>\n",
              "      <td>0</td>\n",
              "      <td>0</td>\n",
              "      <td>0</td>\n",
              "      <td>0</td>\n",
              "      <td>0</td>\n",
              "      <td>0</td>\n",
              "      <td>0</td>\n",
              "      <td>1</td>\n",
              "      <td>0</td>\n",
              "      <td>0</td>\n",
              "      <td>0</td>\n",
              "      <td>0</td>\n",
              "      <td>0</td>\n",
              "      <td>0</td>\n",
              "      <td>0</td>\n",
              "      <td>0</td>\n",
              "    </tr>\n",
              "    <tr>\n",
              "      <th>48</th>\n",
              "      <td>1000011</td>\n",
              "      <td>C</td>\n",
              "      <td>0</td>\n",
              "      <td>19327</td>\n",
              "      <td>381</td>\n",
              "      <td>-1.933225</td>\n",
              "      <td>0</td>\n",
              "      <td>0</td>\n",
              "      <td>0</td>\n",
              "      <td>0</td>\n",
              "      <td>0</td>\n",
              "      <td>0</td>\n",
              "      <td>0</td>\n",
              "      <td>0</td>\n",
              "      <td>0</td>\n",
              "      <td>0</td>\n",
              "      <td>1</td>\n",
              "      <td>0</td>\n",
              "      <td>0</td>\n",
              "      <td>0</td>\n",
              "      <td>0</td>\n",
              "      <td>0</td>\n",
              "      <td>0</td>\n",
              "      <td>0</td>\n",
              "      <td>0</td>\n",
              "      <td>0</td>\n",
              "      <td>0</td>\n",
              "      <td>0</td>\n",
              "      <td>0</td>\n",
              "      <td>0</td>\n",
              "      <td>0</td>\n",
              "      <td>0</td>\n",
              "      <td>1</td>\n",
              "      <td>0</td>\n",
              "      <td>0</td>\n",
              "      <td>0</td>\n",
              "      <td>0</td>\n",
              "      <td>1</td>\n",
              "      <td>0</td>\n",
              "      <td>0</td>\n",
              "      <td>0</td>\n",
              "      <td>1</td>\n",
              "      <td>0</td>\n",
              "      <td>0</td>\n",
              "      <td>0</td>\n",
              "      <td>0</td>\n",
              "      <td>0</td>\n",
              "      <td>0</td>\n",
              "      <td>0</td>\n",
              "      <td>0</td>\n",
              "      <td>0</td>\n",
              "      <td>0</td>\n",
              "      <td>0</td>\n",
              "      <td>0</td>\n",
              "      <td>0</td>\n",
              "      <td>0</td>\n",
              "      <td>0</td>\n",
              "      <td>0</td>\n",
              "      <td>0</td>\n",
              "      <td>0</td>\n",
              "      <td>0</td>\n",
              "      <td>0</td>\n",
              "      <td>0</td>\n",
              "      <td>0</td>\n",
              "      <td>0</td>\n",
              "      <td>0</td>\n",
              "      <td>0</td>\n",
              "      <td>0</td>\n",
              "      <td>1</td>\n",
              "      <td>0</td>\n",
              "      <td>0</td>\n",
              "      <td>0</td>\n",
              "    </tr>\n",
              "  </tbody>\n",
              "</table>\n",
              "</div>"
            ],
            "text/plain": [
              "    User_ID City_Category  Marital_Status  Purchase  ...  p2.0  p6.0  p8.0  p9.0\n",
              "6   1000004             B               1     19215  ...     0     0     1     0\n",
              "13  1000005             A               1     15665  ...     1     0     0     0\n",
              "41  1000010             B               1     18963  ...     0     0     0     0\n",
              "44  1000010             B               1     12642  ...     0     0     0     0\n",
              "48  1000011             C               0     19327  ...     1     0     0     0\n",
              "\n",
              "[5 rows x 72 columns]"
            ]
          },
          "metadata": {
            "tags": []
          },
          "execution_count": 32
        }
      ]
    },
    {
      "cell_type": "code",
      "metadata": {
        "id": "lLw5kG8mQMP_",
        "colab_type": "code",
        "colab": {
          "base_uri": "https://localhost:8080/",
          "height": 1000
        },
        "outputId": "cae67bb1-57a0-4830-f14d-fe46c3f34977"
      },
      "source": [
        "ls = list(temp)\n",
        "ls"
      ],
      "execution_count": 33,
      "outputs": [
        {
          "output_type": "execute_result",
          "data": {
            "text/plain": [
              "['User_ID',\n",
              " 'City_Category',\n",
              " 'Marital_Status',\n",
              " 'Purchase',\n",
              " 'Discount',\n",
              " 'Percent_Discount',\n",
              " 'P00010742',\n",
              " 'P00025442',\n",
              " 'P00028842',\n",
              " 'P00044442',\n",
              " 'P00046742',\n",
              " 'P00052842',\n",
              " 'P00057642',\n",
              " 'P00059442',\n",
              " 'P00080342',\n",
              " 'P00110742',\n",
              " 'P00110842',\n",
              " 'P00110942',\n",
              " 'P00111142',\n",
              " 'P00112142',\n",
              " 'P00112542',\n",
              " 'P00114942',\n",
              " 'P00145042',\n",
              " 'P00148642',\n",
              " 'P00184942',\n",
              " 'P00237542',\n",
              " 'P00242742',\n",
              " 'P00255842',\n",
              " 'P00270942',\n",
              " 'P00334242',\n",
              " 'M',\n",
              " '18-25',\n",
              " '26-35',\n",
              " '36-45',\n",
              " '46-50',\n",
              " '51-55',\n",
              " '55+',\n",
              " '1',\n",
              " '2',\n",
              " '3',\n",
              " '4+',\n",
              " 'j1',\n",
              " 'j10',\n",
              " 'j11',\n",
              " 'j12',\n",
              " 'j13',\n",
              " 'j14',\n",
              " 'j15',\n",
              " 'j16',\n",
              " 'j17',\n",
              " 'j18',\n",
              " 'j19',\n",
              " 'j2',\n",
              " 'j20',\n",
              " 'j3',\n",
              " 'j4',\n",
              " 'j5',\n",
              " 'j6',\n",
              " 'j7',\n",
              " 'j8',\n",
              " 'j9',\n",
              " 'p10',\n",
              " 'p16',\n",
              " 'p6',\n",
              " 'p11.0',\n",
              " 'p12.0',\n",
              " 'p15.0',\n",
              " 'p16.0',\n",
              " 'p2.0',\n",
              " 'p6.0',\n",
              " 'p8.0',\n",
              " 'p9.0']"
            ]
          },
          "metadata": {
            "tags": []
          },
          "execution_count": 33
        }
      ]
    },
    {
      "cell_type": "code",
      "metadata": {
        "id": "Ihh645LYR7Ly",
        "colab_type": "code",
        "colab": {
          "base_uri": "https://localhost:8080/",
          "height": 34
        },
        "outputId": "24c5f251-8424-412b-efb6-81b7ca7d91f9"
      },
      "source": [
        "len(ls)"
      ],
      "execution_count": 34,
      "outputs": [
        {
          "output_type": "execute_result",
          "data": {
            "text/plain": [
              "72"
            ]
          },
          "metadata": {
            "tags": []
          },
          "execution_count": 34
        }
      ]
    },
    {
      "cell_type": "markdown",
      "metadata": {
        "id": "7oox5zBrTfsY",
        "colab_type": "text"
      },
      "source": [
        "For PCA, lets use the City_Category as the target values<br> For that, omit City_category from features for modelling"
      ]
    },
    {
      "cell_type": "code",
      "metadata": {
        "id": "59USyEQuSFAc",
        "colab_type": "code",
        "colab": {}
      },
      "source": [
        "ls.remove('City_Category')\n",
        "ls.remove('Discount')"
      ],
      "execution_count": 0,
      "outputs": []
    },
    {
      "cell_type": "code",
      "metadata": {
        "id": "E3U-m-GZU6NR",
        "colab_type": "code",
        "colab": {
          "base_uri": "https://localhost:8080/",
          "height": 1000
        },
        "outputId": "09d97bc3-394a-41e0-e2f4-ecee27c763cb"
      },
      "source": [
        "ls"
      ],
      "execution_count": 36,
      "outputs": [
        {
          "output_type": "execute_result",
          "data": {
            "text/plain": [
              "['User_ID',\n",
              " 'Marital_Status',\n",
              " 'Purchase',\n",
              " 'Percent_Discount',\n",
              " 'P00010742',\n",
              " 'P00025442',\n",
              " 'P00028842',\n",
              " 'P00044442',\n",
              " 'P00046742',\n",
              " 'P00052842',\n",
              " 'P00057642',\n",
              " 'P00059442',\n",
              " 'P00080342',\n",
              " 'P00110742',\n",
              " 'P00110842',\n",
              " 'P00110942',\n",
              " 'P00111142',\n",
              " 'P00112142',\n",
              " 'P00112542',\n",
              " 'P00114942',\n",
              " 'P00145042',\n",
              " 'P00148642',\n",
              " 'P00184942',\n",
              " 'P00237542',\n",
              " 'P00242742',\n",
              " 'P00255842',\n",
              " 'P00270942',\n",
              " 'P00334242',\n",
              " 'M',\n",
              " '18-25',\n",
              " '26-35',\n",
              " '36-45',\n",
              " '46-50',\n",
              " '51-55',\n",
              " '55+',\n",
              " '1',\n",
              " '2',\n",
              " '3',\n",
              " '4+',\n",
              " 'j1',\n",
              " 'j10',\n",
              " 'j11',\n",
              " 'j12',\n",
              " 'j13',\n",
              " 'j14',\n",
              " 'j15',\n",
              " 'j16',\n",
              " 'j17',\n",
              " 'j18',\n",
              " 'j19',\n",
              " 'j2',\n",
              " 'j20',\n",
              " 'j3',\n",
              " 'j4',\n",
              " 'j5',\n",
              " 'j6',\n",
              " 'j7',\n",
              " 'j8',\n",
              " 'j9',\n",
              " 'p10',\n",
              " 'p16',\n",
              " 'p6',\n",
              " 'p11.0',\n",
              " 'p12.0',\n",
              " 'p15.0',\n",
              " 'p16.0',\n",
              " 'p2.0',\n",
              " 'p6.0',\n",
              " 'p8.0',\n",
              " 'p9.0']"
            ]
          },
          "metadata": {
            "tags": []
          },
          "execution_count": 36
        }
      ]
    },
    {
      "cell_type": "code",
      "metadata": {
        "id": "qy7tLgHYVIkp",
        "colab_type": "code",
        "colab": {}
      },
      "source": [
        "Features = ls.copy()"
      ],
      "execution_count": 0,
      "outputs": []
    },
    {
      "cell_type": "code",
      "metadata": {
        "id": "vXq3kOlMV-Bg",
        "colab_type": "code",
        "colab": {
          "base_uri": "https://localhost:8080/",
          "height": 34
        },
        "outputId": "6ef7f5b8-66c2-46ea-8c10-f18760616372"
      },
      "source": [
        "len(Features)"
      ],
      "execution_count": 38,
      "outputs": [
        {
          "output_type": "execute_result",
          "data": {
            "text/plain": [
              "70"
            ]
          },
          "metadata": {
            "tags": []
          },
          "execution_count": 38
        }
      ]
    },
    {
      "cell_type": "markdown",
      "metadata": {
        "id": "MI2D2G3DWQol",
        "colab_type": "text"
      },
      "source": [
        "Now, separate out features and target values for model inputs"
      ]
    },
    {
      "cell_type": "code",
      "metadata": {
        "id": "2eRhBYZ9WEbb",
        "colab_type": "code",
        "colab": {}
      },
      "source": [
        "x = temp.loc[:, Features].values"
      ],
      "execution_count": 0,
      "outputs": []
    },
    {
      "cell_type": "code",
      "metadata": {
        "id": "k_gDRG1AWkTQ",
        "colab_type": "code",
        "colab": {}
      },
      "source": [
        "y = temp.loc[:,['City_Category']].values\n",
        "y_df = pd.DataFrame(data=y,columns=['City_Category'])"
      ],
      "execution_count": 0,
      "outputs": []
    },
    {
      "cell_type": "code",
      "metadata": {
        "id": "Qy54nmLyWu4A",
        "colab_type": "code",
        "colab": {}
      },
      "source": [
        "# Standardizing the features\n",
        "x = StandardScaler().fit_transform(x)"
      ],
      "execution_count": 0,
      "outputs": []
    },
    {
      "cell_type": "code",
      "metadata": {
        "id": "kzUj-NGPWyOn",
        "colab_type": "code",
        "colab": {}
      },
      "source": [
        "# Declaring a 2 dimensional model and transforming the data\n",
        "pca = PCA(n_components=2)\n",
        "prinComps = pca.fit_transform(x)"
      ],
      "execution_count": 0,
      "outputs": []
    },
    {
      "cell_type": "code",
      "metadata": {
        "id": "AqJK7SdMW1S2",
        "colab_type": "code",
        "colab": {
          "base_uri": "https://localhost:8080/",
          "height": 442
        },
        "outputId": "243f4ae4-de8e-46dc-a118-85208a2b26a6"
      },
      "source": [
        "# Create 2D plot of PCA results\n",
        "prinDf = pd.DataFrame(data = prinComps,columns = ['principal component 1', 'principal component 2'])\n",
        "finalDf = pd.concat([prinDf, y_df], axis = 1)\n",
        "\n",
        "plt.figure(figsize=(12,7))\n",
        "ax = sns.scatterplot(x='principal component 1', y='principal component 2', hue='City_Category', \n",
        "                     hue_order = ['A', 'B', 'C'], data=finalDf)"
      ],
      "execution_count": 43,
      "outputs": [
        {
          "output_type": "display_data",
          "data": {
            "image/png": "[encoded data removed]",
            "text/plain": [
              "<Figure size 864x504 with 1 Axes>"
            ]
          },
          "metadata": {
            "tags": [],
            "needs_background": "light"
          }
        }
      ]
    },
    {
      "cell_type": "code",
      "metadata": {
        "id": "qwm8ExZoXinx",
        "colab_type": "code",
        "colab": {
          "base_uri": "https://localhost:8080/",
          "height": 34
        },
        "outputId": "fa61a184-aa64-4591-bc63-81b48a6a79d5"
      },
      "source": [
        "# Understand how much of the data variance is described by the PCA model, which is less than 8%.\n",
        "pca.explained_variance_ratio_"
      ],
      "execution_count": 44,
      "outputs": [
        {
          "output_type": "execute_result",
          "data": {
            "text/plain": [
              "array([0.04194669, 0.03862568])"
            ]
          },
          "metadata": {
            "tags": []
          },
          "execution_count": 44
        }
      ]
    },
    {
      "cell_type": "markdown",
      "metadata": {
        "id": "S-qOl3hCl9hi",
        "colab_type": "text"
      },
      "source": [
        "Our main aim is to increase varience as much as possible.<br>\n",
        "For that, we will try to remove all components that are not contributing to varience"
      ]
    },
    {
      "cell_type": "markdown",
      "metadata": {
        "id": "A8-QemLPYsgY",
        "colab_type": "text"
      },
      "source": [
        "Plot the heatmap of results to check contribution of various features to varience"
      ]
    },
    {
      "cell_type": "code",
      "metadata": {
        "id": "nQd3nDJ-XrPb",
        "colab_type": "code",
        "colab": {
          "base_uri": "https://localhost:8080/",
          "height": 492
        },
        "outputId": "8c66cf26-c5a9-420b-fc00-cba3a69bc94c"
      },
      "source": [
        "pca.components_\n",
        "df_comp = pd.DataFrame(pca.components_,columns=Features)\n",
        "\n",
        "plt.figure(figsize=(12,7))\n",
        "sns.heatmap(df_comp,cmap='plasma')"
      ],
      "execution_count": 45,
      "outputs": [
        {
          "output_type": "execute_result",
          "data": {
            "text/plain": [
              "<matplotlib.axes._subplots.AxesSubplot at 0x7f8642f7a048>"
            ]
          },
          "metadata": {
            "tags": []
          },
          "execution_count": 45
        },
        {
          "output_type": "display_data",
          "data": {
            "image/png": "[encoded data removed]",
            "text/plain": [
              "<Figure size 864x504 with 2 Axes>"
            ]
          },
          "metadata": {
            "tags": [],
            "needs_background": "light"
          }
        }
      ]
    },
    {
      "cell_type": "markdown",
      "metadata": {
        "id": "0CjERW6KZIZ0",
        "colab_type": "text"
      },
      "source": [
        "From above heatmap, we can see that Occupation and Age Category is contributing very little varience.<br> So, we remove it from features list"
      ]
    },
    {
      "cell_type": "code",
      "metadata": {
        "id": "6-fAVKOOYDIg",
        "colab_type": "code",
        "colab": {
          "base_uri": "https://localhost:8080/",
          "height": 1000
        },
        "outputId": "5f567916-13f4-401c-c0f1-1cb42245bbb6"
      },
      "source": [
        "Features"
      ],
      "execution_count": 46,
      "outputs": [
        {
          "output_type": "execute_result",
          "data": {
            "text/plain": [
              "['User_ID',\n",
              " 'Marital_Status',\n",
              " 'Purchase',\n",
              " 'Percent_Discount',\n",
              " 'P00010742',\n",
              " 'P00025442',\n",
              " 'P00028842',\n",
              " 'P00044442',\n",
              " 'P00046742',\n",
              " 'P00052842',\n",
              " 'P00057642',\n",
              " 'P00059442',\n",
              " 'P00080342',\n",
              " 'P00110742',\n",
              " 'P00110842',\n",
              " 'P00110942',\n",
              " 'P00111142',\n",
              " 'P00112142',\n",
              " 'P00112542',\n",
              " 'P00114942',\n",
              " 'P00145042',\n",
              " 'P00148642',\n",
              " 'P00184942',\n",
              " 'P00237542',\n",
              " 'P00242742',\n",
              " 'P00255842',\n",
              " 'P00270942',\n",
              " 'P00334242',\n",
              " 'M',\n",
              " '18-25',\n",
              " '26-35',\n",
              " '36-45',\n",
              " '46-50',\n",
              " '51-55',\n",
              " '55+',\n",
              " '1',\n",
              " '2',\n",
              " '3',\n",
              " '4+',\n",
              " 'j1',\n",
              " 'j10',\n",
              " 'j11',\n",
              " 'j12',\n",
              " 'j13',\n",
              " 'j14',\n",
              " 'j15',\n",
              " 'j16',\n",
              " 'j17',\n",
              " 'j18',\n",
              " 'j19',\n",
              " 'j2',\n",
              " 'j20',\n",
              " 'j3',\n",
              " 'j4',\n",
              " 'j5',\n",
              " 'j6',\n",
              " 'j7',\n",
              " 'j8',\n",
              " 'j9',\n",
              " 'p10',\n",
              " 'p16',\n",
              " 'p6',\n",
              " 'p11.0',\n",
              " 'p12.0',\n",
              " 'p15.0',\n",
              " 'p16.0',\n",
              " 'p2.0',\n",
              " 'p6.0',\n",
              " 'p8.0',\n",
              " 'p9.0']"
            ]
          },
          "metadata": {
            "tags": []
          },
          "execution_count": 46
        }
      ]
    },
    {
      "cell_type": "code",
      "metadata": {
        "id": "DSkjQkecZtYg",
        "colab_type": "code",
        "colab": {}
      },
      "source": [
        "#declare a list with all age and occupation related features\n",
        "ls2 = ['18-25', '26-35', '36-45', '46-50', '51-55', '55+','j1','j10', 'j11', 'j12', 'j13', 'j14', 'j15', 'j16', 'j17', 'j18', 'j19', 'j2', 'j20', 'j3', 'j4', 'j5', 'j6','j7','j8','j9']"
      ],
      "execution_count": 0,
      "outputs": []
    },
    {
      "cell_type": "code",
      "metadata": {
        "id": "ZQb-PjllamPO",
        "colab_type": "code",
        "colab": {}
      },
      "source": [
        "#Subtract job, age list from features list. Use list comprehension to subtrom Features list\n",
        "Features = [x for x in Features if x not in ls2]"
      ],
      "execution_count": 0,
      "outputs": []
    },
    {
      "cell_type": "code",
      "metadata": {
        "id": "5m6vzIMdavNm",
        "colab_type": "code",
        "colab": {
          "base_uri": "https://localhost:8080/",
          "height": 756
        },
        "outputId": "8421c0c2-2ee6-4fe5-93dc-8305c9ee0c49"
      },
      "source": [
        "Features"
      ],
      "execution_count": 49,
      "outputs": [
        {
          "output_type": "execute_result",
          "data": {
            "text/plain": [
              "['User_ID',\n",
              " 'Marital_Status',\n",
              " 'Purchase',\n",
              " 'Percent_Discount',\n",
              " 'P00010742',\n",
              " 'P00025442',\n",
              " 'P00028842',\n",
              " 'P00044442',\n",
              " 'P00046742',\n",
              " 'P00052842',\n",
              " 'P00057642',\n",
              " 'P00059442',\n",
              " 'P00080342',\n",
              " 'P00110742',\n",
              " 'P00110842',\n",
              " 'P00110942',\n",
              " 'P00111142',\n",
              " 'P00112142',\n",
              " 'P00112542',\n",
              " 'P00114942',\n",
              " 'P00145042',\n",
              " 'P00148642',\n",
              " 'P00184942',\n",
              " 'P00237542',\n",
              " 'P00242742',\n",
              " 'P00255842',\n",
              " 'P00270942',\n",
              " 'P00334242',\n",
              " 'M',\n",
              " '1',\n",
              " '2',\n",
              " '3',\n",
              " '4+',\n",
              " 'p10',\n",
              " 'p16',\n",
              " 'p6',\n",
              " 'p11.0',\n",
              " 'p12.0',\n",
              " 'p15.0',\n",
              " 'p16.0',\n",
              " 'p2.0',\n",
              " 'p6.0',\n",
              " 'p8.0',\n",
              " 'p9.0']"
            ]
          },
          "metadata": {
            "tags": []
          },
          "execution_count": 49
        }
      ]
    },
    {
      "cell_type": "code",
      "metadata": {
        "id": "uRV7im4dawqV",
        "colab_type": "code",
        "colab": {
          "base_uri": "https://localhost:8080/",
          "height": 34
        },
        "outputId": "4144f5fa-d276-4e6c-a56f-f285883a7728"
      },
      "source": [
        "len(Features)"
      ],
      "execution_count": 50,
      "outputs": [
        {
          "output_type": "execute_result",
          "data": {
            "text/plain": [
              "44"
            ]
          },
          "metadata": {
            "tags": []
          },
          "execution_count": 50
        }
      ]
    },
    {
      "cell_type": "markdown",
      "metadata": {
        "id": "M6uFo3UVbSpx",
        "colab_type": "text"
      },
      "source": [
        "So we have removed all features related to Age and Occupation "
      ]
    },
    {
      "cell_type": "markdown",
      "metadata": {
        "id": "frH6renIbdeD",
        "colab_type": "text"
      },
      "source": [
        "Now Implement PCA again with less no. of features"
      ]
    },
    {
      "cell_type": "code",
      "metadata": {
        "id": "CFX6liDXa0L8",
        "colab_type": "code",
        "colab": {}
      },
      "source": [
        "x = temp.loc[:, Features].values"
      ],
      "execution_count": 0,
      "outputs": []
    },
    {
      "cell_type": "code",
      "metadata": {
        "id": "muho0MZybtuF",
        "colab_type": "code",
        "colab": {}
      },
      "source": [
        "# Standardizing and transforming the features\n",
        "x = StandardScaler().fit_transform(x)\n",
        "pca = PCA(n_components=2)\n",
        "prinComps = pca.fit_transform(x)"
      ],
      "execution_count": 0,
      "outputs": []
    },
    {
      "cell_type": "code",
      "metadata": {
        "id": "8VS_J6QCbxhi",
        "colab_type": "code",
        "colab": {
          "base_uri": "https://localhost:8080/",
          "height": 442
        },
        "outputId": "29c72e9d-6f81-4906-8d66-36d59bdb0a17"
      },
      "source": [
        "# Create 2D plot of PCA results\n",
        "prinDf = pd.DataFrame(data = prinComps,columns = ['principal component 1', 'principal component 2'])\n",
        "finalDf = pd.concat([prinDf, y_df], axis = 1)\n",
        "\n",
        "plt.figure(figsize=(12,7))\n",
        "ax = sns.scatterplot(x='principal component 1', y='principal component 2', hue='City_Category', \n",
        "                     hue_order = ['A', 'B', 'C'], data=finalDf)"
      ],
      "execution_count": 53,
      "outputs": [
        {
          "output_type": "display_data",
          "data": {
            "image/png": "[encoded data removed]",
            "text/plain": [
              "<Figure size 864x504 with 1 Axes>"
            ]
          },
          "metadata": {
            "tags": [],
            "needs_background": "light"
          }
        }
      ]
    },
    {
      "cell_type": "code",
      "metadata": {
        "id": "fQkqH8Q0b1vE",
        "colab_type": "code",
        "colab": {
          "base_uri": "https://localhost:8080/",
          "height": 34
        },
        "outputId": "004a8f57-f997-4c73-c2b3-193a406a05cb"
      },
      "source": [
        "# Check data variance described by the PCA model, which is increased to about 12.7%.\n",
        "pca.explained_variance_ratio_"
      ],
      "execution_count": 54,
      "outputs": [
        {
          "output_type": "execute_result",
          "data": {
            "text/plain": [
              "array([0.06662249, 0.06122901])"
            ]
          },
          "metadata": {
            "tags": []
          },
          "execution_count": 54
        }
      ]
    },
    {
      "cell_type": "code",
      "metadata": {
        "id": "ES2yH8BUb6Y9",
        "colab_type": "code",
        "colab": {
          "base_uri": "https://localhost:8080/",
          "height": 522
        },
        "outputId": "2539fe57-425b-4bab-d4d8-95c360b7fb1f"
      },
      "source": [
        "# Rerun the heatmap\n",
        "pca.components_\n",
        "df_comp = pd.DataFrame(pca.components_,columns=Features)\n",
        "\n",
        "plt.figure(figsize=(12,7))\n",
        "sns.heatmap(df_comp,cmap='plasma')"
      ],
      "execution_count": 55,
      "outputs": [
        {
          "output_type": "execute_result",
          "data": {
            "text/plain": [
              "<matplotlib.axes._subplots.AxesSubplot at 0x7f8642f7a3c8>"
            ]
          },
          "metadata": {
            "tags": []
          },
          "execution_count": 55
        },
        {
          "output_type": "display_data",
          "data": {
            "image/png": "[encoded data removed]",
            "text/plain": [
              "<Figure size 864x504 with 2 Axes>"
            ]
          },
          "metadata": {
            "tags": [],
            "needs_background": "light"
          }
        }
      ]
    },
    {
      "cell_type": "code",
      "metadata": {
        "id": "ZdiTtSK4b_lq",
        "colab_type": "code",
        "colab": {
          "base_uri": "https://localhost:8080/",
          "height": 232
        },
        "outputId": "d4e97a3d-92a2-4e77-e5ab-63c6cda0ffea"
      },
      "source": [
        "temp.head()"
      ],
      "execution_count": 56,
      "outputs": [
        {
          "output_type": "execute_result",
          "data": {
            "text/html": [
              "<div>\n",
              "<style scoped>\n",
              "    .dataframe tbody tr th:only-of-type {\n",
              "        vertical-align: middle;\n",
              "    }\n",
              "\n",
              "    .dataframe tbody tr th {\n",
              "        vertical-align: top;\n",
              "    }\n",
              "\n",
              "    .dataframe thead th {\n",
              "        text-align: right;\n",
              "    }\n",
              "</style>\n",
              "<table border=\"1\" class=\"dataframe\">\n",
              "  <thead>\n",
              "    <tr style=\"text-align: right;\">\n",
              "      <th></th>\n",
              "      <th>User_ID</th>\n",
              "      <th>City_Category</th>\n",
              "      <th>Marital_Status</th>\n",
              "      <th>Purchase</th>\n",
              "      <th>Discount</th>\n",
              "      <th>Percent_Discount</th>\n",
              "      <th>P00010742</th>\n",
              "      <th>P00025442</th>\n",
              "      <th>P00028842</th>\n",
              "      <th>P00044442</th>\n",
              "      <th>P00046742</th>\n",
              "      <th>P00052842</th>\n",
              "      <th>P00057642</th>\n",
              "      <th>P00059442</th>\n",
              "      <th>P00080342</th>\n",
              "      <th>P00110742</th>\n",
              "      <th>P00110842</th>\n",
              "      <th>P00110942</th>\n",
              "      <th>P00111142</th>\n",
              "      <th>P00112142</th>\n",
              "      <th>P00112542</th>\n",
              "      <th>P00114942</th>\n",
              "      <th>P00145042</th>\n",
              "      <th>P00148642</th>\n",
              "      <th>P00184942</th>\n",
              "      <th>P00237542</th>\n",
              "      <th>P00242742</th>\n",
              "      <th>P00255842</th>\n",
              "      <th>P00270942</th>\n",
              "      <th>P00334242</th>\n",
              "      <th>M</th>\n",
              "      <th>18-25</th>\n",
              "      <th>26-35</th>\n",
              "      <th>36-45</th>\n",
              "      <th>46-50</th>\n",
              "      <th>51-55</th>\n",
              "      <th>55+</th>\n",
              "      <th>1</th>\n",
              "      <th>2</th>\n",
              "      <th>3</th>\n",
              "      <th>4+</th>\n",
              "      <th>j1</th>\n",
              "      <th>j10</th>\n",
              "      <th>j11</th>\n",
              "      <th>j12</th>\n",
              "      <th>j13</th>\n",
              "      <th>j14</th>\n",
              "      <th>j15</th>\n",
              "      <th>j16</th>\n",
              "      <th>j17</th>\n",
              "      <th>j18</th>\n",
              "      <th>j19</th>\n",
              "      <th>j2</th>\n",
              "      <th>j20</th>\n",
              "      <th>j3</th>\n",
              "      <th>j4</th>\n",
              "      <th>j5</th>\n",
              "      <th>j6</th>\n",
              "      <th>j7</th>\n",
              "      <th>j8</th>\n",
              "      <th>j9</th>\n",
              "      <th>p10</th>\n",
              "      <th>p16</th>\n",
              "      <th>p6</th>\n",
              "      <th>p11.0</th>\n",
              "      <th>p12.0</th>\n",
              "      <th>p15.0</th>\n",
              "      <th>p16.0</th>\n",
              "      <th>p2.0</th>\n",
              "      <th>p6.0</th>\n",
              "      <th>p8.0</th>\n",
              "      <th>p9.0</th>\n",
              "    </tr>\n",
              "  </thead>\n",
              "  <tbody>\n",
              "    <tr>\n",
              "      <th>6</th>\n",
              "      <td>1000004</td>\n",
              "      <td>B</td>\n",
              "      <td>1</td>\n",
              "      <td>19215</td>\n",
              "      <td>492</td>\n",
              "      <td>-2.496575</td>\n",
              "      <td>0</td>\n",
              "      <td>0</td>\n",
              "      <td>0</td>\n",
              "      <td>0</td>\n",
              "      <td>0</td>\n",
              "      <td>0</td>\n",
              "      <td>0</td>\n",
              "      <td>0</td>\n",
              "      <td>0</td>\n",
              "      <td>0</td>\n",
              "      <td>0</td>\n",
              "      <td>0</td>\n",
              "      <td>0</td>\n",
              "      <td>0</td>\n",
              "      <td>0</td>\n",
              "      <td>0</td>\n",
              "      <td>0</td>\n",
              "      <td>0</td>\n",
              "      <td>1</td>\n",
              "      <td>0</td>\n",
              "      <td>0</td>\n",
              "      <td>0</td>\n",
              "      <td>0</td>\n",
              "      <td>0</td>\n",
              "      <td>1</td>\n",
              "      <td>0</td>\n",
              "      <td>0</td>\n",
              "      <td>0</td>\n",
              "      <td>1</td>\n",
              "      <td>0</td>\n",
              "      <td>0</td>\n",
              "      <td>0</td>\n",
              "      <td>1</td>\n",
              "      <td>0</td>\n",
              "      <td>0</td>\n",
              "      <td>0</td>\n",
              "      <td>0</td>\n",
              "      <td>0</td>\n",
              "      <td>0</td>\n",
              "      <td>0</td>\n",
              "      <td>0</td>\n",
              "      <td>0</td>\n",
              "      <td>0</td>\n",
              "      <td>0</td>\n",
              "      <td>0</td>\n",
              "      <td>0</td>\n",
              "      <td>0</td>\n",
              "      <td>0</td>\n",
              "      <td>0</td>\n",
              "      <td>0</td>\n",
              "      <td>0</td>\n",
              "      <td>0</td>\n",
              "      <td>1</td>\n",
              "      <td>0</td>\n",
              "      <td>0</td>\n",
              "      <td>0</td>\n",
              "      <td>0</td>\n",
              "      <td>0</td>\n",
              "      <td>0</td>\n",
              "      <td>0</td>\n",
              "      <td>0</td>\n",
              "      <td>0</td>\n",
              "      <td>0</td>\n",
              "      <td>0</td>\n",
              "      <td>1</td>\n",
              "      <td>0</td>\n",
              "    </tr>\n",
              "    <tr>\n",
              "      <th>13</th>\n",
              "      <td>1000005</td>\n",
              "      <td>A</td>\n",
              "      <td>1</td>\n",
              "      <td>15665</td>\n",
              "      <td>4040</td>\n",
              "      <td>-20.502411</td>\n",
              "      <td>0</td>\n",
              "      <td>0</td>\n",
              "      <td>0</td>\n",
              "      <td>0</td>\n",
              "      <td>0</td>\n",
              "      <td>0</td>\n",
              "      <td>0</td>\n",
              "      <td>0</td>\n",
              "      <td>0</td>\n",
              "      <td>0</td>\n",
              "      <td>0</td>\n",
              "      <td>0</td>\n",
              "      <td>0</td>\n",
              "      <td>0</td>\n",
              "      <td>0</td>\n",
              "      <td>0</td>\n",
              "      <td>1</td>\n",
              "      <td>0</td>\n",
              "      <td>0</td>\n",
              "      <td>0</td>\n",
              "      <td>0</td>\n",
              "      <td>0</td>\n",
              "      <td>0</td>\n",
              "      <td>0</td>\n",
              "      <td>1</td>\n",
              "      <td>0</td>\n",
              "      <td>1</td>\n",
              "      <td>0</td>\n",
              "      <td>0</td>\n",
              "      <td>0</td>\n",
              "      <td>0</td>\n",
              "      <td>1</td>\n",
              "      <td>0</td>\n",
              "      <td>0</td>\n",
              "      <td>0</td>\n",
              "      <td>0</td>\n",
              "      <td>0</td>\n",
              "      <td>0</td>\n",
              "      <td>0</td>\n",
              "      <td>0</td>\n",
              "      <td>0</td>\n",
              "      <td>0</td>\n",
              "      <td>0</td>\n",
              "      <td>0</td>\n",
              "      <td>0</td>\n",
              "      <td>0</td>\n",
              "      <td>0</td>\n",
              "      <td>1</td>\n",
              "      <td>0</td>\n",
              "      <td>0</td>\n",
              "      <td>0</td>\n",
              "      <td>0</td>\n",
              "      <td>0</td>\n",
              "      <td>0</td>\n",
              "      <td>0</td>\n",
              "      <td>0</td>\n",
              "      <td>0</td>\n",
              "      <td>0</td>\n",
              "      <td>0</td>\n",
              "      <td>0</td>\n",
              "      <td>0</td>\n",
              "      <td>0</td>\n",
              "      <td>1</td>\n",
              "      <td>0</td>\n",
              "      <td>0</td>\n",
              "      <td>0</td>\n",
              "    </tr>\n",
              "    <tr>\n",
              "      <th>41</th>\n",
              "      <td>1000010</td>\n",
              "      <td>B</td>\n",
              "      <td>1</td>\n",
              "      <td>18963</td>\n",
              "      <td>743</td>\n",
              "      <td>-3.770425</td>\n",
              "      <td>0</td>\n",
              "      <td>0</td>\n",
              "      <td>0</td>\n",
              "      <td>0</td>\n",
              "      <td>0</td>\n",
              "      <td>0</td>\n",
              "      <td>0</td>\n",
              "      <td>0</td>\n",
              "      <td>0</td>\n",
              "      <td>0</td>\n",
              "      <td>0</td>\n",
              "      <td>0</td>\n",
              "      <td>1</td>\n",
              "      <td>0</td>\n",
              "      <td>0</td>\n",
              "      <td>0</td>\n",
              "      <td>0</td>\n",
              "      <td>0</td>\n",
              "      <td>0</td>\n",
              "      <td>0</td>\n",
              "      <td>0</td>\n",
              "      <td>0</td>\n",
              "      <td>0</td>\n",
              "      <td>0</td>\n",
              "      <td>0</td>\n",
              "      <td>0</td>\n",
              "      <td>0</td>\n",
              "      <td>1</td>\n",
              "      <td>0</td>\n",
              "      <td>0</td>\n",
              "      <td>0</td>\n",
              "      <td>0</td>\n",
              "      <td>0</td>\n",
              "      <td>0</td>\n",
              "      <td>1</td>\n",
              "      <td>1</td>\n",
              "      <td>0</td>\n",
              "      <td>0</td>\n",
              "      <td>0</td>\n",
              "      <td>0</td>\n",
              "      <td>0</td>\n",
              "      <td>0</td>\n",
              "      <td>0</td>\n",
              "      <td>0</td>\n",
              "      <td>0</td>\n",
              "      <td>0</td>\n",
              "      <td>0</td>\n",
              "      <td>0</td>\n",
              "      <td>0</td>\n",
              "      <td>0</td>\n",
              "      <td>0</td>\n",
              "      <td>0</td>\n",
              "      <td>0</td>\n",
              "      <td>0</td>\n",
              "      <td>0</td>\n",
              "      <td>0</td>\n",
              "      <td>0</td>\n",
              "      <td>0</td>\n",
              "      <td>0</td>\n",
              "      <td>0</td>\n",
              "      <td>1</td>\n",
              "      <td>0</td>\n",
              "      <td>0</td>\n",
              "      <td>0</td>\n",
              "      <td>0</td>\n",
              "      <td>0</td>\n",
              "    </tr>\n",
              "    <tr>\n",
              "      <th>44</th>\n",
              "      <td>1000010</td>\n",
              "      <td>B</td>\n",
              "      <td>1</td>\n",
              "      <td>12642</td>\n",
              "      <td>8048</td>\n",
              "      <td>-38.898018</td>\n",
              "      <td>0</td>\n",
              "      <td>0</td>\n",
              "      <td>0</td>\n",
              "      <td>0</td>\n",
              "      <td>0</td>\n",
              "      <td>0</td>\n",
              "      <td>0</td>\n",
              "      <td>0</td>\n",
              "      <td>0</td>\n",
              "      <td>0</td>\n",
              "      <td>0</td>\n",
              "      <td>0</td>\n",
              "      <td>0</td>\n",
              "      <td>0</td>\n",
              "      <td>0</td>\n",
              "      <td>0</td>\n",
              "      <td>0</td>\n",
              "      <td>1</td>\n",
              "      <td>0</td>\n",
              "      <td>0</td>\n",
              "      <td>0</td>\n",
              "      <td>0</td>\n",
              "      <td>0</td>\n",
              "      <td>0</td>\n",
              "      <td>0</td>\n",
              "      <td>0</td>\n",
              "      <td>0</td>\n",
              "      <td>1</td>\n",
              "      <td>0</td>\n",
              "      <td>0</td>\n",
              "      <td>0</td>\n",
              "      <td>0</td>\n",
              "      <td>0</td>\n",
              "      <td>0</td>\n",
              "      <td>1</td>\n",
              "      <td>1</td>\n",
              "      <td>0</td>\n",
              "      <td>0</td>\n",
              "      <td>0</td>\n",
              "      <td>0</td>\n",
              "      <td>0</td>\n",
              "      <td>0</td>\n",
              "      <td>0</td>\n",
              "      <td>0</td>\n",
              "      <td>0</td>\n",
              "      <td>0</td>\n",
              "      <td>0</td>\n",
              "      <td>0</td>\n",
              "      <td>0</td>\n",
              "      <td>0</td>\n",
              "      <td>0</td>\n",
              "      <td>0</td>\n",
              "      <td>0</td>\n",
              "      <td>0</td>\n",
              "      <td>0</td>\n",
              "      <td>0</td>\n",
              "      <td>0</td>\n",
              "      <td>1</td>\n",
              "      <td>0</td>\n",
              "      <td>0</td>\n",
              "      <td>0</td>\n",
              "      <td>0</td>\n",
              "      <td>0</td>\n",
              "      <td>0</td>\n",
              "      <td>0</td>\n",
              "      <td>0</td>\n",
              "    </tr>\n",
              "    <tr>\n",
              "      <th>48</th>\n",
              "      <td>1000011</td>\n",
              "      <td>C</td>\n",
              "      <td>0</td>\n",
              "      <td>19327</td>\n",
              "      <td>381</td>\n",
              "      <td>-1.933225</td>\n",
              "      <td>0</td>\n",
              "      <td>0</td>\n",
              "      <td>0</td>\n",
              "      <td>0</td>\n",
              "      <td>0</td>\n",
              "      <td>0</td>\n",
              "      <td>0</td>\n",
              "      <td>0</td>\n",
              "      <td>0</td>\n",
              "      <td>0</td>\n",
              "      <td>1</td>\n",
              "      <td>0</td>\n",
              "      <td>0</td>\n",
              "      <td>0</td>\n",
              "      <td>0</td>\n",
              "      <td>0</td>\n",
              "      <td>0</td>\n",
              "      <td>0</td>\n",
              "      <td>0</td>\n",
              "      <td>0</td>\n",
              "      <td>0</td>\n",
              "      <td>0</td>\n",
              "      <td>0</td>\n",
              "      <td>0</td>\n",
              "      <td>0</td>\n",
              "      <td>0</td>\n",
              "      <td>1</td>\n",
              "      <td>0</td>\n",
              "      <td>0</td>\n",
              "      <td>0</td>\n",
              "      <td>0</td>\n",
              "      <td>1</td>\n",
              "      <td>0</td>\n",
              "      <td>0</td>\n",
              "      <td>0</td>\n",
              "      <td>1</td>\n",
              "      <td>0</td>\n",
              "      <td>0</td>\n",
              "      <td>0</td>\n",
              "      <td>0</td>\n",
              "      <td>0</td>\n",
              "      <td>0</td>\n",
              "      <td>0</td>\n",
              "      <td>0</td>\n",
              "      <td>0</td>\n",
              "      <td>0</td>\n",
              "      <td>0</td>\n",
              "      <td>0</td>\n",
              "      <td>0</td>\n",
              "      <td>0</td>\n",
              "      <td>0</td>\n",
              "      <td>0</td>\n",
              "      <td>0</td>\n",
              "      <td>0</td>\n",
              "      <td>0</td>\n",
              "      <td>0</td>\n",
              "      <td>0</td>\n",
              "      <td>0</td>\n",
              "      <td>0</td>\n",
              "      <td>0</td>\n",
              "      <td>0</td>\n",
              "      <td>0</td>\n",
              "      <td>1</td>\n",
              "      <td>0</td>\n",
              "      <td>0</td>\n",
              "      <td>0</td>\n",
              "    </tr>\n",
              "  </tbody>\n",
              "</table>\n",
              "</div>"
            ],
            "text/plain": [
              "    User_ID City_Category  Marital_Status  Purchase  ...  p2.0  p6.0  p8.0  p9.0\n",
              "6   1000004             B               1     19215  ...     0     0     1     0\n",
              "13  1000005             A               1     15665  ...     1     0     0     0\n",
              "41  1000010             B               1     18963  ...     0     0     0     0\n",
              "44  1000010             B               1     12642  ...     0     0     0     0\n",
              "48  1000011             C               0     19327  ...     1     0     0     0\n",
              "\n",
              "[5 rows x 72 columns]"
            ]
          },
          "metadata": {
            "tags": []
          },
          "execution_count": 56
        }
      ]
    },
    {
      "cell_type": "code",
      "metadata": {
        "id": "GKRARTEJcbgk",
        "colab_type": "code",
        "colab": {
          "base_uri": "https://localhost:8080/",
          "height": 282
        },
        "outputId": "2db07a72-64e2-47a5-8b25-70046aa3f615"
      },
      "source": [
        "train.head()"
      ],
      "execution_count": 57,
      "outputs": [
        {
          "output_type": "execute_result",
          "data": {
            "text/html": [
              "<div>\n",
              "<style scoped>\n",
              "    .dataframe tbody tr th:only-of-type {\n",
              "        vertical-align: middle;\n",
              "    }\n",
              "\n",
              "    .dataframe tbody tr th {\n",
              "        vertical-align: top;\n",
              "    }\n",
              "\n",
              "    .dataframe thead th {\n",
              "        text-align: right;\n",
              "    }\n",
              "</style>\n",
              "<table border=\"1\" class=\"dataframe\">\n",
              "  <thead>\n",
              "    <tr style=\"text-align: right;\">\n",
              "      <th></th>\n",
              "      <th>User_ID</th>\n",
              "      <th>Product_ID</th>\n",
              "      <th>Gender</th>\n",
              "      <th>Age</th>\n",
              "      <th>Occupation</th>\n",
              "      <th>City_Category</th>\n",
              "      <th>Stay_In_Current_City_Years</th>\n",
              "      <th>Marital_Status</th>\n",
              "      <th>Product_Category_1</th>\n",
              "      <th>Product_Category_2</th>\n",
              "      <th>Purchase</th>\n",
              "      <th>Discount</th>\n",
              "      <th>Percent_Discount</th>\n",
              "    </tr>\n",
              "  </thead>\n",
              "  <tbody>\n",
              "    <tr>\n",
              "      <th>0</th>\n",
              "      <td>1000001</td>\n",
              "      <td>P00069042</td>\n",
              "      <td>F</td>\n",
              "      <td>0-17</td>\n",
              "      <td>10</td>\n",
              "      <td>A</td>\n",
              "      <td>2</td>\n",
              "      <td>0</td>\n",
              "      <td>3</td>\n",
              "      <td>8.0</td>\n",
              "      <td>8370</td>\n",
              "      <td>5346</td>\n",
              "      <td>-38.976378</td>\n",
              "    </tr>\n",
              "    <tr>\n",
              "      <th>1</th>\n",
              "      <td>1000001</td>\n",
              "      <td>P00248942</td>\n",
              "      <td>F</td>\n",
              "      <td>0-17</td>\n",
              "      <td>10</td>\n",
              "      <td>A</td>\n",
              "      <td>2</td>\n",
              "      <td>0</td>\n",
              "      <td>1</td>\n",
              "      <td>6.0</td>\n",
              "      <td>15200</td>\n",
              "      <td>4501</td>\n",
              "      <td>-22.846556</td>\n",
              "    </tr>\n",
              "    <tr>\n",
              "      <th>2</th>\n",
              "      <td>1000001</td>\n",
              "      <td>P00087842</td>\n",
              "      <td>F</td>\n",
              "      <td>0-17</td>\n",
              "      <td>10</td>\n",
              "      <td>A</td>\n",
              "      <td>2</td>\n",
              "      <td>0</td>\n",
              "      <td>12</td>\n",
              "      <td>8.0</td>\n",
              "      <td>1422</td>\n",
              "      <td>354</td>\n",
              "      <td>-19.932432</td>\n",
              "    </tr>\n",
              "    <tr>\n",
              "      <th>3</th>\n",
              "      <td>1000001</td>\n",
              "      <td>P00085442</td>\n",
              "      <td>F</td>\n",
              "      <td>0-17</td>\n",
              "      <td>10</td>\n",
              "      <td>A</td>\n",
              "      <td>2</td>\n",
              "      <td>0</td>\n",
              "      <td>12</td>\n",
              "      <td>14.0</td>\n",
              "      <td>1057</td>\n",
              "      <td>721</td>\n",
              "      <td>-40.551181</td>\n",
              "    </tr>\n",
              "    <tr>\n",
              "      <th>4</th>\n",
              "      <td>1000002</td>\n",
              "      <td>P00285442</td>\n",
              "      <td>M</td>\n",
              "      <td>55+</td>\n",
              "      <td>16</td>\n",
              "      <td>C</td>\n",
              "      <td>4+</td>\n",
              "      <td>0</td>\n",
              "      <td>8</td>\n",
              "      <td>12.0</td>\n",
              "      <td>7969</td>\n",
              "      <td>2104</td>\n",
              "      <td>-20.887521</td>\n",
              "    </tr>\n",
              "  </tbody>\n",
              "</table>\n",
              "</div>"
            ],
            "text/plain": [
              "   User_ID Product_ID Gender  ... Purchase  Discount Percent_Discount\n",
              "0  1000001  P00069042      F  ...     8370      5346       -38.976378\n",
              "1  1000001  P00248942      F  ...    15200      4501       -22.846556\n",
              "2  1000001  P00087842      F  ...     1422       354       -19.932432\n",
              "3  1000001  P00085442      F  ...     1057       721       -40.551181\n",
              "4  1000002  P00285442      M  ...     7969      2104       -20.887521\n",
              "\n",
              "[5 rows x 13 columns]"
            ]
          },
          "metadata": {
            "tags": []
          },
          "execution_count": 57
        }
      ]
    },
    {
      "cell_type": "markdown",
      "metadata": {
        "id": "LbaY-qhGiPDh",
        "colab_type": "text"
      },
      "source": [
        "From above heatmap, we can see that User_ID, Stay_In_Current_City_Years, Marital_Status are also not contributing to varience. <br> So remove them from features list"
      ]
    },
    {
      "cell_type": "code",
      "metadata": {
        "id": "TuHtbqOAiKDE",
        "colab_type": "code",
        "colab": {
          "base_uri": "https://localhost:8080/",
          "height": 756
        },
        "outputId": "6ef15aca-8fb5-4e41-af32-10f8718c754f"
      },
      "source": [
        "Features"
      ],
      "execution_count": 58,
      "outputs": [
        {
          "output_type": "execute_result",
          "data": {
            "text/plain": [
              "['User_ID',\n",
              " 'Marital_Status',\n",
              " 'Purchase',\n",
              " 'Percent_Discount',\n",
              " 'P00010742',\n",
              " 'P00025442',\n",
              " 'P00028842',\n",
              " 'P00044442',\n",
              " 'P00046742',\n",
              " 'P00052842',\n",
              " 'P00057642',\n",
              " 'P00059442',\n",
              " 'P00080342',\n",
              " 'P00110742',\n",
              " 'P00110842',\n",
              " 'P00110942',\n",
              " 'P00111142',\n",
              " 'P00112142',\n",
              " 'P00112542',\n",
              " 'P00114942',\n",
              " 'P00145042',\n",
              " 'P00148642',\n",
              " 'P00184942',\n",
              " 'P00237542',\n",
              " 'P00242742',\n",
              " 'P00255842',\n",
              " 'P00270942',\n",
              " 'P00334242',\n",
              " 'M',\n",
              " '1',\n",
              " '2',\n",
              " '3',\n",
              " '4+',\n",
              " 'p10',\n",
              " 'p16',\n",
              " 'p6',\n",
              " 'p11.0',\n",
              " 'p12.0',\n",
              " 'p15.0',\n",
              " 'p16.0',\n",
              " 'p2.0',\n",
              " 'p6.0',\n",
              " 'p8.0',\n",
              " 'p9.0']"
            ]
          },
          "metadata": {
            "tags": []
          },
          "execution_count": 58
        }
      ]
    },
    {
      "cell_type": "code",
      "metadata": {
        "id": "U0ODkXGWjKCz",
        "colab_type": "code",
        "colab": {}
      },
      "source": [
        "#declare a list with components and subtract it from featues list\n",
        "ls3 = ['User_ID', '1', '2', '3', '4+', 'Marital_Status']"
      ],
      "execution_count": 0,
      "outputs": []
    },
    {
      "cell_type": "code",
      "metadata": {
        "id": "ZixT69OFkIYw",
        "colab_type": "code",
        "colab": {}
      },
      "source": [
        "Features = [x for x in Features if x not in ls3]"
      ],
      "execution_count": 0,
      "outputs": []
    },
    {
      "cell_type": "code",
      "metadata": {
        "id": "QHRM5pQjkTXz",
        "colab_type": "code",
        "colab": {
          "base_uri": "https://localhost:8080/",
          "height": 34
        },
        "outputId": "7b07e0cc-eb4b-440d-92bf-9d1477cf1ed4"
      },
      "source": [
        "len(Features)"
      ],
      "execution_count": 61,
      "outputs": [
        {
          "output_type": "execute_result",
          "data": {
            "text/plain": [
              "38"
            ]
          },
          "metadata": {
            "tags": []
          },
          "execution_count": 61
        }
      ]
    },
    {
      "cell_type": "markdown",
      "metadata": {
        "id": "FxCcQbWHkkXz",
        "colab_type": "text"
      },
      "source": [
        "Implement PCA again with reduced features"
      ]
    },
    {
      "cell_type": "code",
      "metadata": {
        "id": "NIkW9P-vkVHV",
        "colab_type": "code",
        "colab": {}
      },
      "source": [
        "x = temp.loc[:, Features].values"
      ],
      "execution_count": 0,
      "outputs": []
    },
    {
      "cell_type": "code",
      "metadata": {
        "id": "UsPJpqxeks4d",
        "colab_type": "code",
        "colab": {}
      },
      "source": [
        "# Standardizing and transforming the features\n",
        "x = StandardScaler().fit_transform(x)\n",
        "pca = PCA(n_components=2)\n",
        "prinComps = pca.fit_transform(x)"
      ],
      "execution_count": 0,
      "outputs": []
    },
    {
      "cell_type": "code",
      "metadata": {
        "id": "aPTkN_9WkyfZ",
        "colab_type": "code",
        "colab": {
          "base_uri": "https://localhost:8080/",
          "height": 442
        },
        "outputId": "b75aa50e-3db7-4493-bb40-d8c863ea7a3a"
      },
      "source": [
        "prinDf = pd.DataFrame(data = prinComps,columns = ['principal component 1', 'principal component 2'])\n",
        "finalDf = pd.concat([prinDf, y_df], axis = 1)\n",
        "\n",
        "plt.figure(figsize=(12,7))\n",
        "ax = sns.scatterplot(x='principal component 1', y='principal component 2', hue='City_Category', \n",
        "                     hue_order = ['A', 'B', 'C'], data=finalDf)"
      ],
      "execution_count": 64,
      "outputs": [
        {
          "output_type": "display_data",
          "data": {
            "image/png": "[encoded data removed]",
            "text/plain": [
              "<Figure size 864x504 with 1 Axes>"
            ]
          },
          "metadata": {
            "tags": [],
            "needs_background": "light"
          }
        }
      ]
    },
    {
      "cell_type": "code",
      "metadata": {
        "id": "0_fP7mDgk7J1",
        "colab_type": "code",
        "colab": {
          "base_uri": "https://localhost:8080/",
          "height": 34
        },
        "outputId": "2da7502d-f425-4934-f5b8-ec3ce38281c2"
      },
      "source": [
        "#data variance is increased to about 14.7%.\n",
        "pca.explained_variance_ratio_"
      ],
      "execution_count": 65,
      "outputs": [
        {
          "output_type": "execute_result",
          "data": {
            "text/plain": [
              "array([0.07713022, 0.07088937])"
            ]
          },
          "metadata": {
            "tags": []
          },
          "execution_count": 65
        }
      ]
    },
    {
      "cell_type": "code",
      "metadata": {
        "id": "8UqNXRIalMC-",
        "colab_type": "code",
        "colab": {
          "base_uri": "https://localhost:8080/",
          "height": 522
        },
        "outputId": "026dc1c5-cd69-4cb3-97cf-884ef441e98f"
      },
      "source": [
        "# Rerun the heatmap\n",
        "pca.components_\n",
        "df_comp = pd.DataFrame(pca.components_,columns=Features)\n",
        "\n",
        "plt.figure(figsize=(12,7))\n",
        "sns.heatmap(df_comp,cmap='plasma')"
      ],
      "execution_count": 66,
      "outputs": [
        {
          "output_type": "execute_result",
          "data": {
            "text/plain": [
              "<matplotlib.axes._subplots.AxesSubplot at 0x7f8642dc2550>"
            ]
          },
          "metadata": {
            "tags": []
          },
          "execution_count": 66
        },
        {
          "output_type": "display_data",
          "data": {
            "image/png": "[encoded data removed]",
            "text/plain": [
              "<Figure size 864x504 with 2 Axes>"
            ]
          },
          "metadata": {
            "tags": [],
            "needs_background": "light"
          }
        }
      ]
    },
    {
      "cell_type": "markdown",
      "metadata": {
        "id": "VlWYNo8im4uG",
        "colab_type": "text"
      },
      "source": [
        "We have removed all the visible features that are not contributing to varience.<br>\n",
        "We will now try to remove some product IDs that are not contributing much to varience."
      ]
    },
    {
      "cell_type": "code",
      "metadata": {
        "id": "Dp1JKxVGlfmR",
        "colab_type": "code",
        "colab": {}
      },
      "source": [
        "ls4 = ['P00025442', 'P00044442', 'P00057642', 'P00111142', 'P00112141', 'P00080342', 'P00112542', 'P00242742', 'P00110742', 'P00110842', 'P00110942', 'p11.0', 'p12.0', 'p6.0']"
      ],
      "execution_count": 0,
      "outputs": []
    },
    {
      "cell_type": "code",
      "metadata": {
        "id": "VL1IVeFqoEuf",
        "colab_type": "code",
        "colab": {
          "base_uri": "https://localhost:8080/",
          "height": 34
        },
        "outputId": "8ed51fc8-81e3-41f0-a8c1-998481ec9cfc"
      },
      "source": [
        "len(Features)"
      ],
      "execution_count": 68,
      "outputs": [
        {
          "output_type": "execute_result",
          "data": {
            "text/plain": [
              "38"
            ]
          },
          "metadata": {
            "tags": []
          },
          "execution_count": 68
        }
      ]
    },
    {
      "cell_type": "code",
      "metadata": {
        "id": "4YaQFapvoTuG",
        "colab_type": "code",
        "colab": {}
      },
      "source": [
        "Features = [x for x in Features if x not in ls4]"
      ],
      "execution_count": 0,
      "outputs": []
    },
    {
      "cell_type": "code",
      "metadata": {
        "id": "BMMLxwZ2q_IH",
        "colab_type": "code",
        "colab": {
          "base_uri": "https://localhost:8080/",
          "height": 34
        },
        "outputId": "cb8114aa-6c21-41c5-a05a-ed54aef1c1e7"
      },
      "source": [
        "len(Features)"
      ],
      "execution_count": 70,
      "outputs": [
        {
          "output_type": "execute_result",
          "data": {
            "text/plain": [
              "25"
            ]
          },
          "metadata": {
            "tags": []
          },
          "execution_count": 70
        }
      ]
    },
    {
      "cell_type": "code",
      "metadata": {
        "id": "S14zVpZrrBxw",
        "colab_type": "code",
        "colab": {}
      },
      "source": [
        "x = temp.loc[:, Features].values\n",
        "x = StandardScaler().fit_transform(x)\n",
        "pca = PCA(n_components=2)\n",
        "prinComps = pca.fit_transform(x)"
      ],
      "execution_count": 0,
      "outputs": []
    },
    {
      "cell_type": "code",
      "metadata": {
        "id": "8Rkc7s7JrMb6",
        "colab_type": "code",
        "colab": {
          "base_uri": "https://localhost:8080/",
          "height": 34
        },
        "outputId": "7f2fd520-bd7b-4582-bf2c-4ef4b4ac2a0c"
      },
      "source": [
        "pca.explained_variance_ratio_"
      ],
      "execution_count": 72,
      "outputs": [
        {
          "output_type": "execute_result",
          "data": {
            "text/plain": [
              "array([0.11154313, 0.10436768])"
            ]
          },
          "metadata": {
            "tags": []
          },
          "execution_count": 72
        }
      ]
    },
    {
      "cell_type": "markdown",
      "metadata": {
        "id": "DhtMjnZErUzN",
        "colab_type": "text"
      },
      "source": [
        "data variance is increased to about 21.5%."
      ]
    },
    {
      "cell_type": "code",
      "metadata": {
        "id": "lJF7XkDOrQSI",
        "colab_type": "code",
        "colab": {
          "base_uri": "https://localhost:8080/",
          "height": 522
        },
        "outputId": "47eb9c55-5a28-4e0b-e762-ac56196b9e1c"
      },
      "source": [
        "pca.components_\n",
        "df_comp = pd.DataFrame(pca.components_,columns=Features)\n",
        "\n",
        "plt.figure(figsize=(12,7))\n",
        "sns.heatmap(df_comp,cmap='plasma')"
      ],
      "execution_count": 73,
      "outputs": [
        {
          "output_type": "execute_result",
          "data": {
            "text/plain": [
              "<matplotlib.axes._subplots.AxesSubplot at 0x7f8642c31f98>"
            ]
          },
          "metadata": {
            "tags": []
          },
          "execution_count": 73
        },
        {
          "output_type": "display_data",
          "data": {
            "image/png": "[encoded data removed]",
            "text/plain": [
              "<Figure size 864x504 with 2 Axes>"
            ]
          },
          "metadata": {
            "tags": [],
            "needs_background": "light"
          }
        }
      ]
    },
    {
      "cell_type": "markdown",
      "metadata": {
        "id": "afiv36NOvc7l",
        "colab_type": "text"
      },
      "source": [
        "Again remove some less contributing features"
      ]
    },
    {
      "cell_type": "code",
      "metadata": {
        "id": "r10A9lz5zcyj",
        "colab_type": "code",
        "colab": {
          "base_uri": "https://localhost:8080/",
          "height": 437
        },
        "outputId": "904a2f55-86d4-4c78-8a1e-ada58b6b0046"
      },
      "source": [
        "Features"
      ],
      "execution_count": 74,
      "outputs": [
        {
          "output_type": "execute_result",
          "data": {
            "text/plain": [
              "['Purchase',\n",
              " 'Percent_Discount',\n",
              " 'P00010742',\n",
              " 'P00028842',\n",
              " 'P00046742',\n",
              " 'P00052842',\n",
              " 'P00059442',\n",
              " 'P00112142',\n",
              " 'P00114942',\n",
              " 'P00145042',\n",
              " 'P00148642',\n",
              " 'P00184942',\n",
              " 'P00237542',\n",
              " 'P00255842',\n",
              " 'P00270942',\n",
              " 'P00334242',\n",
              " 'M',\n",
              " 'p10',\n",
              " 'p16',\n",
              " 'p6',\n",
              " 'p15.0',\n",
              " 'p16.0',\n",
              " 'p2.0',\n",
              " 'p8.0',\n",
              " 'p9.0']"
            ]
          },
          "metadata": {
            "tags": []
          },
          "execution_count": 74
        }
      ]
    },
    {
      "cell_type": "code",
      "metadata": {
        "id": "BjzjXviJrdcM",
        "colab_type": "code",
        "colab": {}
      },
      "source": [
        "ls5 = ['M', 'P00334242', 'P00255842',  'p9.0']"
      ],
      "execution_count": 0,
      "outputs": []
    },
    {
      "cell_type": "code",
      "metadata": {
        "id": "nZs9dVsKwbjF",
        "colab_type": "code",
        "colab": {
          "base_uri": "https://localhost:8080/",
          "height": 34
        },
        "outputId": "7d6b3dac-32ad-4c38-8e7c-04cfe09b5cfe"
      },
      "source": [
        "len(Features)"
      ],
      "execution_count": 76,
      "outputs": [
        {
          "output_type": "execute_result",
          "data": {
            "text/plain": [
              "25"
            ]
          },
          "metadata": {
            "tags": []
          },
          "execution_count": 76
        }
      ]
    },
    {
      "cell_type": "code",
      "metadata": {
        "id": "pFwKsoklwewT",
        "colab_type": "code",
        "colab": {}
      },
      "source": [
        "Features = [x for x in Features if x not in ls5]"
      ],
      "execution_count": 0,
      "outputs": []
    },
    {
      "cell_type": "code",
      "metadata": {
        "id": "l_1YzmwNwhKw",
        "colab_type": "code",
        "colab": {
          "base_uri": "https://localhost:8080/",
          "height": 34
        },
        "outputId": "e802b14e-eef8-4805-9d77-1af537a2eca3"
      },
      "source": [
        "len(Features)"
      ],
      "execution_count": 78,
      "outputs": [
        {
          "output_type": "execute_result",
          "data": {
            "text/plain": [
              "21"
            ]
          },
          "metadata": {
            "tags": []
          },
          "execution_count": 78
        }
      ]
    },
    {
      "cell_type": "code",
      "metadata": {
        "id": "z3dh5Z_8wi5o",
        "colab_type": "code",
        "colab": {}
      },
      "source": [
        "x = temp.loc[:, Features].values\n",
        "x = StandardScaler().fit_transform(x)\n",
        "pca = PCA(n_components=2)\n",
        "prinComps = pca.fit_transform(x)"
      ],
      "execution_count": 0,
      "outputs": []
    },
    {
      "cell_type": "code",
      "metadata": {
        "id": "JAOfjyNwwsCG",
        "colab_type": "code",
        "colab": {
          "base_uri": "https://localhost:8080/",
          "height": 34
        },
        "outputId": "7b2f3675-5b75-4e28-8501-0c2f7dd1219d"
      },
      "source": [
        "pca.explained_variance_ratio_"
      ],
      "execution_count": 80,
      "outputs": [
        {
          "output_type": "execute_result",
          "data": {
            "text/plain": [
              "array([0.1297301 , 0.12327305])"
            ]
          },
          "metadata": {
            "tags": []
          },
          "execution_count": 80
        }
      ]
    },
    {
      "cell_type": "markdown",
      "metadata": {
        "id": "L91ZKzLZw1XM",
        "colab_type": "text"
      },
      "source": [
        "data variance is increased to about 21.5%."
      ]
    },
    {
      "cell_type": "code",
      "metadata": {
        "id": "6uwVvcclwxBa",
        "colab_type": "code",
        "colab": {
          "base_uri": "https://localhost:8080/",
          "height": 522
        },
        "outputId": "035c6e32-db6d-4c29-ee8d-44b09e51a0fb"
      },
      "source": [
        "pca.components_\n",
        "df_comp = pd.DataFrame(pca.components_,columns=Features)\n",
        "\n",
        "plt.figure(figsize=(12,7))\n",
        "sns.heatmap(df_comp,cmap='plasma')"
      ],
      "execution_count": 81,
      "outputs": [
        {
          "output_type": "execute_result",
          "data": {
            "text/plain": [
              "<matplotlib.axes._subplots.AxesSubplot at 0x7f86407c8ef0>"
            ]
          },
          "metadata": {
            "tags": []
          },
          "execution_count": 81
        },
        {
          "output_type": "display_data",
          "data": {
            "image/png": "[encoded data removed]",
            "text/plain": [
              "<Figure size 864x504 with 2 Axes>"
            ]
          },
          "metadata": {
            "tags": [],
            "needs_background": "light"
          }
        }
      ]
    },
    {
      "cell_type": "code",
      "metadata": {
        "id": "jezo90oxw5NL",
        "colab_type": "code",
        "colab": {}
      },
      "source": [
        ""
      ],
      "execution_count": 0,
      "outputs": []
    }
  ]
}